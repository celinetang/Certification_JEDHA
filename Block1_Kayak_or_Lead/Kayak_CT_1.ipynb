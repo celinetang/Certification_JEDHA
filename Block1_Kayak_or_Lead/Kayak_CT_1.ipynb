{
 "cells": [
  {
   "cell_type": "code",
   "execution_count": 188,
   "metadata": {},
   "outputs": [],
   "source": [
    "import pandas as pd\n",
    "import datetime\n",
    "import plotly.express as px\n",
    "from datetime import datetime\n"
   ]
  },
  {
   "cell_type": "code",
   "execution_count": 2,
   "metadata": {},
   "outputs": [
    {
     "data": {
      "text/html": [
       "<div>\n",
       "<style scoped>\n",
       "    .dataframe tbody tr th:only-of-type {\n",
       "        vertical-align: middle;\n",
       "    }\n",
       "\n",
       "    .dataframe tbody tr th {\n",
       "        vertical-align: top;\n",
       "    }\n",
       "\n",
       "    .dataframe thead th {\n",
       "        text-align: right;\n",
       "    }\n",
       "</style>\n",
       "<table border=\"1\" class=\"dataframe\">\n",
       "  <thead>\n",
       "    <tr style=\"text-align: right;\">\n",
       "      <th></th>\n",
       "      <th>Unnamed: 0</th>\n",
       "      <th>cod</th>\n",
       "      <th>message</th>\n",
       "      <th>cnt</th>\n",
       "      <th>list</th>\n",
       "      <th>city</th>\n",
       "    </tr>\n",
       "  </thead>\n",
       "  <tbody>\n",
       "    <tr>\n",
       "      <th>0</th>\n",
       "      <td>0</td>\n",
       "      <td>200</td>\n",
       "      <td>0</td>\n",
       "      <td>40</td>\n",
       "      <td>[{'dt': 1681462800, 'main': {'temp': 8.19, 'fe...</td>\n",
       "      <td>{'id': 6435453, 'name': 'Huisnes-sur-Mer', 'co...</td>\n",
       "    </tr>\n",
       "    <tr>\n",
       "      <th>1</th>\n",
       "      <td>1</td>\n",
       "      <td>200</td>\n",
       "      <td>0</td>\n",
       "      <td>40</td>\n",
       "      <td>[{'dt': 1681462800, 'main': {'temp': 8.61, 'fe...</td>\n",
       "      <td>{'id': 2978640, 'name': 'St-Malo', 'coord': {'...</td>\n",
       "    </tr>\n",
       "    <tr>\n",
       "      <th>2</th>\n",
       "      <td>2</td>\n",
       "      <td>200</td>\n",
       "      <td>0</td>\n",
       "      <td>40</td>\n",
       "      <td>[{'dt': 1681462800, 'main': {'temp': 6.6, 'fee...</td>\n",
       "      <td>{'id': 3034483, 'name': 'Bayeux', 'coord': {'l...</td>\n",
       "    </tr>\n",
       "    <tr>\n",
       "      <th>3</th>\n",
       "      <td>3</td>\n",
       "      <td>200</td>\n",
       "      <td>0</td>\n",
       "      <td>40</td>\n",
       "      <td>[{'dt': 1681462800, 'main': {'temp': 7.33, 'fe...</td>\n",
       "      <td>{'id': 3003796, 'name': 'Le Havre', 'coord': {...</td>\n",
       "    </tr>\n",
       "    <tr>\n",
       "      <th>4</th>\n",
       "      <td>4</td>\n",
       "      <td>200</td>\n",
       "      <td>0</td>\n",
       "      <td>40</td>\n",
       "      <td>[{'dt': 1681462800, 'main': {'temp': 7.16, 'fe...</td>\n",
       "      <td>{'id': 2982652, 'name': 'Rouen', 'coord': {'la...</td>\n",
       "    </tr>\n",
       "  </tbody>\n",
       "</table>\n",
       "</div>"
      ],
      "text/plain": [
       "   Unnamed: 0  cod  message  cnt  \\\n",
       "0           0  200        0   40   \n",
       "1           1  200        0   40   \n",
       "2           2  200        0   40   \n",
       "3           3  200        0   40   \n",
       "4           4  200        0   40   \n",
       "\n",
       "                                                list  \\\n",
       "0  [{'dt': 1681462800, 'main': {'temp': 8.19, 'fe...   \n",
       "1  [{'dt': 1681462800, 'main': {'temp': 8.61, 'fe...   \n",
       "2  [{'dt': 1681462800, 'main': {'temp': 6.6, 'fee...   \n",
       "3  [{'dt': 1681462800, 'main': {'temp': 7.33, 'fe...   \n",
       "4  [{'dt': 1681462800, 'main': {'temp': 7.16, 'fe...   \n",
       "\n",
       "                                                city  \n",
       "0  {'id': 6435453, 'name': 'Huisnes-sur-Mer', 'co...  \n",
       "1  {'id': 2978640, 'name': 'St-Malo', 'coord': {'...  \n",
       "2  {'id': 3034483, 'name': 'Bayeux', 'coord': {'l...  \n",
       "3  {'id': 3003796, 'name': 'Le Havre', 'coord': {...  \n",
       "4  {'id': 2982652, 'name': 'Rouen', 'coord': {'la...  "
      ]
     },
     "execution_count": 2,
     "metadata": {},
     "output_type": "execute_result"
    }
   ],
   "source": [
    "geo = pd.read_csv(\"cities_lat_lon.csv\")\n",
    "df = pd.read_csv(\"cities_weather.csv\")\n",
    "df.head()"
   ]
  },
  {
   "cell_type": "code",
   "execution_count": 25,
   "metadata": {},
   "outputs": [],
   "source": [
    "df['city'] = df['city'].apply(eval)\n",
    "df['list'] = df['list'].apply(eval)"
   ]
  },
  {
   "cell_type": "code",
   "execution_count": 192,
   "metadata": {},
   "outputs": [
    {
     "data": {
      "text/html": [
       "<div>\n",
       "<style scoped>\n",
       "    .dataframe tbody tr th:only-of-type {\n",
       "        vertical-align: middle;\n",
       "    }\n",
       "\n",
       "    .dataframe tbody tr th {\n",
       "        vertical-align: top;\n",
       "    }\n",
       "\n",
       "    .dataframe thead th {\n",
       "        text-align: right;\n",
       "    }\n",
       "</style>\n",
       "<table border=\"1\" class=\"dataframe\">\n",
       "  <thead>\n",
       "    <tr style=\"text-align: right;\">\n",
       "      <th></th>\n",
       "      <th>city_id</th>\n",
       "      <th>city</th>\n",
       "      <th>day</th>\n",
       "      <th>time</th>\n",
       "      <th>temperature</th>\n",
       "      <th>real_feel</th>\n",
       "      <th>humidity</th>\n",
       "      <th>weather_description</th>\n",
       "      <th>wind_speed</th>\n",
       "    </tr>\n",
       "  </thead>\n",
       "  <tbody>\n",
       "    <tr>\n",
       "      <th>0</th>\n",
       "      <td>1.0</td>\n",
       "      <td>Huisnes-sur-Mer</td>\n",
       "      <td>2023-04-14</td>\n",
       "      <td>09:00:00</td>\n",
       "      <td>8.19</td>\n",
       "      <td>4.19</td>\n",
       "      <td>95.0</td>\n",
       "      <td>light rain</td>\n",
       "      <td>8.48</td>\n",
       "    </tr>\n",
       "    <tr>\n",
       "      <th>1</th>\n",
       "      <td>1.0</td>\n",
       "      <td>Huisnes-sur-Mer</td>\n",
       "      <td>2023-04-14</td>\n",
       "      <td>12:00:00</td>\n",
       "      <td>9.48</td>\n",
       "      <td>6.86</td>\n",
       "      <td>92.0</td>\n",
       "      <td>moderate rain</td>\n",
       "      <td>5.22</td>\n",
       "    </tr>\n",
       "    <tr>\n",
       "      <th>2</th>\n",
       "      <td>1.0</td>\n",
       "      <td>Huisnes-sur-Mer</td>\n",
       "      <td>2023-04-14</td>\n",
       "      <td>15:00:00</td>\n",
       "      <td>12.15</td>\n",
       "      <td>11.64</td>\n",
       "      <td>85.0</td>\n",
       "      <td>light rain</td>\n",
       "      <td>4.49</td>\n",
       "    </tr>\n",
       "    <tr>\n",
       "      <th>3</th>\n",
       "      <td>1.0</td>\n",
       "      <td>Huisnes-sur-Mer</td>\n",
       "      <td>2023-04-14</td>\n",
       "      <td>18:00:00</td>\n",
       "      <td>10.59</td>\n",
       "      <td>10.16</td>\n",
       "      <td>94.0</td>\n",
       "      <td>light rain</td>\n",
       "      <td>5.22</td>\n",
       "    </tr>\n",
       "    <tr>\n",
       "      <th>4</th>\n",
       "      <td>1.0</td>\n",
       "      <td>Huisnes-sur-Mer</td>\n",
       "      <td>2023-04-14</td>\n",
       "      <td>21:00:00</td>\n",
       "      <td>9.35</td>\n",
       "      <td>5.46</td>\n",
       "      <td>79.0</td>\n",
       "      <td>broken clouds</td>\n",
       "      <td>9.50</td>\n",
       "    </tr>\n",
       "    <tr>\n",
       "      <th>...</th>\n",
       "      <td>...</td>\n",
       "      <td>...</td>\n",
       "      <td>...</td>\n",
       "      <td>...</td>\n",
       "      <td>...</td>\n",
       "      <td>...</td>\n",
       "      <td>...</td>\n",
       "      <td>...</td>\n",
       "      <td>...</td>\n",
       "    </tr>\n",
       "    <tr>\n",
       "      <th>1956</th>\n",
       "      <td>35.0</td>\n",
       "      <td>La Rochelle</td>\n",
       "      <td>2023-04-18</td>\n",
       "      <td>18:00:00</td>\n",
       "      <td>12.83</td>\n",
       "      <td>12.07</td>\n",
       "      <td>73.0</td>\n",
       "      <td>light rain</td>\n",
       "      <td>7.91</td>\n",
       "    </tr>\n",
       "    <tr>\n",
       "      <th>1957</th>\n",
       "      <td>35.0</td>\n",
       "      <td>La Rochelle</td>\n",
       "      <td>2023-04-18</td>\n",
       "      <td>21:00:00</td>\n",
       "      <td>10.53</td>\n",
       "      <td>9.62</td>\n",
       "      <td>76.0</td>\n",
       "      <td>clear sky</td>\n",
       "      <td>8.50</td>\n",
       "    </tr>\n",
       "    <tr>\n",
       "      <th>1958</th>\n",
       "      <td>35.0</td>\n",
       "      <td>La Rochelle</td>\n",
       "      <td>2023-04-19</td>\n",
       "      <td>00:00:00</td>\n",
       "      <td>9.33</td>\n",
       "      <td>5.94</td>\n",
       "      <td>76.0</td>\n",
       "      <td>clear sky</td>\n",
       "      <td>7.48</td>\n",
       "    </tr>\n",
       "    <tr>\n",
       "      <th>1959</th>\n",
       "      <td>35.0</td>\n",
       "      <td>La Rochelle</td>\n",
       "      <td>2023-04-19</td>\n",
       "      <td>03:00:00</td>\n",
       "      <td>8.12</td>\n",
       "      <td>4.39</td>\n",
       "      <td>79.0</td>\n",
       "      <td>clear sky</td>\n",
       "      <td>7.45</td>\n",
       "    </tr>\n",
       "    <tr>\n",
       "      <th>1960</th>\n",
       "      <td>35.0</td>\n",
       "      <td>La Rochelle</td>\n",
       "      <td>2023-04-19</td>\n",
       "      <td>06:00:00</td>\n",
       "      <td>7.43</td>\n",
       "      <td>3.30</td>\n",
       "      <td>81.0</td>\n",
       "      <td>clear sky</td>\n",
       "      <td>8.10</td>\n",
       "    </tr>\n",
       "  </tbody>\n",
       "</table>\n",
       "<p>1400 rows × 9 columns</p>\n",
       "</div>"
      ],
      "text/plain": [
       "      city_id             city         day      time  temperature  real_feel  \\\n",
       "0         1.0  Huisnes-sur-Mer  2023-04-14  09:00:00         8.19       4.19   \n",
       "1         1.0  Huisnes-sur-Mer  2023-04-14  12:00:00         9.48       6.86   \n",
       "2         1.0  Huisnes-sur-Mer  2023-04-14  15:00:00        12.15      11.64   \n",
       "3         1.0  Huisnes-sur-Mer  2023-04-14  18:00:00        10.59      10.16   \n",
       "4         1.0  Huisnes-sur-Mer  2023-04-14  21:00:00         9.35       5.46   \n",
       "...       ...              ...         ...       ...          ...        ...   \n",
       "1956     35.0      La Rochelle  2023-04-18  18:00:00        12.83      12.07   \n",
       "1957     35.0      La Rochelle  2023-04-18  21:00:00        10.53       9.62   \n",
       "1958     35.0      La Rochelle  2023-04-19  00:00:00         9.33       5.94   \n",
       "1959     35.0      La Rochelle  2023-04-19  03:00:00         8.12       4.39   \n",
       "1960     35.0      La Rochelle  2023-04-19  06:00:00         7.43       3.30   \n",
       "\n",
       "      humidity weather_description  wind_speed  \n",
       "0         95.0          light rain        8.48  \n",
       "1         92.0       moderate rain        5.22  \n",
       "2         85.0          light rain        4.49  \n",
       "3         94.0          light rain        5.22  \n",
       "4         79.0       broken clouds        9.50  \n",
       "...        ...                 ...         ...  \n",
       "1956      73.0          light rain        7.91  \n",
       "1957      76.0           clear sky        8.50  \n",
       "1958      76.0           clear sky        7.48  \n",
       "1959      79.0           clear sky        7.45  \n",
       "1960      81.0           clear sky        8.10  \n",
       "\n",
       "[1400 rows x 9 columns]"
      ]
     },
     "execution_count": 192,
     "metadata": {},
     "output_type": "execute_result"
    }
   ],
   "source": [
    "w = pd.DataFrame()\n",
    "w.loc[0, 0] = 0\n",
    "\n",
    "for i in range(df.shape[0]):\n",
    "    k = w.index[-1]\n",
    "    for j in range(len(df.loc[i, 'list'])) : \n",
    "        w.loc[i+k+j, 'city_id'] = int(i+1)\n",
    "        w.loc[i+k+j, 'city'] = df.loc[i, 'city']['name']\n",
    "        #avec j l'index qui permet d'accéder aux 5 différents jours\n",
    "        w.loc[i+k+j, 'date'] = df.loc[i, 'list'][j]['dt']\n",
    "        w.loc[i+k+j, 'temperature'] = df.loc[i, 'list'][j]['main']['temp']\n",
    "        w.loc[i+k+j, 'real_feel'] = df.loc[i, 'list'][j]['main']['feels_like']\n",
    "        w.loc[i+k+j, 'humidity'] = df.loc[i, 'list'][j]['main']['humidity']\n",
    "        w.loc[i+k+j, 'weather_description'] = df.loc[i, 'list'][j]['weather'][0]['description']\n",
    "        w.loc[i+k+j, 'wind_speed'] = df.loc[i, 'list'][j]['wind']['speed']\n",
    "    \n",
    "\n",
    "w['day'] = w['date'].apply(lambda x : datetime.utcfromtimestamp(x).strftime('%Y-%m-%d'))\n",
    "w['time'] = w['date'].apply(lambda x : datetime.utcfromtimestamp(x).strftime('%H:%M:%S'))\n",
    "\n",
    "w = w.iloc[:, [0, 1, 2, 9, 10, 3, 4, 5, 6, 7, 8]]\n",
    "w = w.drop ([0, 'date'], axis=1) \n",
    "w\n",
    "\n"
   ]
  },
  {
   "cell_type": "code",
   "execution_count": 215,
   "metadata": {},
   "outputs": [
    {
     "name": "stderr",
     "output_type": "stream",
     "text": [
      "C:\\Users\\Celine\\AppData\\Local\\Temp\\ipykernel_13852\\2158572186.py:1: FutureWarning:\n",
      "\n",
      "Indexing with multiple keys (implicitly converted to a tuple of keys) will be deprecated, use a list instead.\n",
      "\n"
     ]
    },
    {
     "data": {
      "text/html": [
       "<div>\n",
       "<style scoped>\n",
       "    .dataframe tbody tr th:only-of-type {\n",
       "        vertical-align: middle;\n",
       "    }\n",
       "\n",
       "    .dataframe tbody tr th {\n",
       "        vertical-align: top;\n",
       "    }\n",
       "\n",
       "    .dataframe thead th {\n",
       "        text-align: right;\n",
       "    }\n",
       "</style>\n",
       "<table border=\"1\" class=\"dataframe\">\n",
       "  <thead>\n",
       "    <tr style=\"text-align: right;\">\n",
       "      <th></th>\n",
       "      <th>city</th>\n",
       "      <th>day</th>\n",
       "      <th>temperature</th>\n",
       "      <th>real_feel</th>\n",
       "      <th>humidity</th>\n",
       "    </tr>\n",
       "  </thead>\n",
       "  <tbody>\n",
       "    <tr>\n",
       "      <th>0</th>\n",
       "      <td>Aigues-Mortes</td>\n",
       "      <td>2023-04-14</td>\n",
       "      <td>12.204000</td>\n",
       "      <td>11.212000</td>\n",
       "      <td>66.400000</td>\n",
       "    </tr>\n",
       "    <tr>\n",
       "      <th>1</th>\n",
       "      <td>Aigues-Mortes</td>\n",
       "      <td>2023-04-15</td>\n",
       "      <td>13.980000</td>\n",
       "      <td>12.806250</td>\n",
       "      <td>52.625000</td>\n",
       "    </tr>\n",
       "    <tr>\n",
       "      <th>2</th>\n",
       "      <td>Aigues-Mortes</td>\n",
       "      <td>2023-04-16</td>\n",
       "      <td>14.471250</td>\n",
       "      <td>13.285000</td>\n",
       "      <td>50.250000</td>\n",
       "    </tr>\n",
       "    <tr>\n",
       "      <th>3</th>\n",
       "      <td>Aigues-Mortes</td>\n",
       "      <td>2023-04-17</td>\n",
       "      <td>14.622500</td>\n",
       "      <td>13.503750</td>\n",
       "      <td>52.125000</td>\n",
       "    </tr>\n",
       "    <tr>\n",
       "      <th>4</th>\n",
       "      <td>Aigues-Mortes</td>\n",
       "      <td>2023-04-18</td>\n",
       "      <td>12.672500</td>\n",
       "      <td>11.820000</td>\n",
       "      <td>69.875000</td>\n",
       "    </tr>\n",
       "    <tr>\n",
       "      <th>...</th>\n",
       "      <td>...</td>\n",
       "      <td>...</td>\n",
       "      <td>...</td>\n",
       "      <td>...</td>\n",
       "      <td>...</td>\n",
       "    </tr>\n",
       "    <tr>\n",
       "      <th>205</th>\n",
       "      <td>Vieux Lyon</td>\n",
       "      <td>2023-04-15</td>\n",
       "      <td>7.907500</td>\n",
       "      <td>5.571250</td>\n",
       "      <td>91.750000</td>\n",
       "    </tr>\n",
       "    <tr>\n",
       "      <th>206</th>\n",
       "      <td>Vieux Lyon</td>\n",
       "      <td>2023-04-16</td>\n",
       "      <td>9.373750</td>\n",
       "      <td>7.755000</td>\n",
       "      <td>76.375000</td>\n",
       "    </tr>\n",
       "    <tr>\n",
       "      <th>207</th>\n",
       "      <td>Vieux Lyon</td>\n",
       "      <td>2023-04-17</td>\n",
       "      <td>9.601250</td>\n",
       "      <td>7.873750</td>\n",
       "      <td>79.375000</td>\n",
       "    </tr>\n",
       "    <tr>\n",
       "      <th>208</th>\n",
       "      <td>Vieux Lyon</td>\n",
       "      <td>2023-04-18</td>\n",
       "      <td>8.641250</td>\n",
       "      <td>7.380000</td>\n",
       "      <td>80.375000</td>\n",
       "    </tr>\n",
       "    <tr>\n",
       "      <th>209</th>\n",
       "      <td>Vieux Lyon</td>\n",
       "      <td>2023-04-19</td>\n",
       "      <td>8.243333</td>\n",
       "      <td>8.243333</td>\n",
       "      <td>78.333333</td>\n",
       "    </tr>\n",
       "  </tbody>\n",
       "</table>\n",
       "<p>210 rows × 5 columns</p>\n",
       "</div>"
      ],
      "text/plain": [
       "              city         day  temperature  real_feel   humidity\n",
       "0    Aigues-Mortes  2023-04-14    12.204000  11.212000  66.400000\n",
       "1    Aigues-Mortes  2023-04-15    13.980000  12.806250  52.625000\n",
       "2    Aigues-Mortes  2023-04-16    14.471250  13.285000  50.250000\n",
       "3    Aigues-Mortes  2023-04-17    14.622500  13.503750  52.125000\n",
       "4    Aigues-Mortes  2023-04-18    12.672500  11.820000  69.875000\n",
       "..             ...         ...          ...        ...        ...\n",
       "205     Vieux Lyon  2023-04-15     7.907500   5.571250  91.750000\n",
       "206     Vieux Lyon  2023-04-16     9.373750   7.755000  76.375000\n",
       "207     Vieux Lyon  2023-04-17     9.601250   7.873750  79.375000\n",
       "208     Vieux Lyon  2023-04-18     8.641250   7.380000  80.375000\n",
       "209     Vieux Lyon  2023-04-19     8.243333   8.243333  78.333333\n",
       "\n",
       "[210 rows x 5 columns]"
      ]
     },
     "execution_count": 215,
     "metadata": {},
     "output_type": "execute_result"
    }
   ],
   "source": [
    "avg_city_w = w.groupby(['city', 'day'])['temperature', 'real_feel', 'humidity'].mean().reset_index()\n",
    "a = pd.DataFrame(avg_city_w)\n",
    "a"
   ]
  },
  {
   "cell_type": "code",
   "execution_count": 203,
   "metadata": {},
   "outputs": [],
   "source": [
    "from plotly.offline import plot\n",
    "import plotly.io as pio\n",
    "\n",
    "fig = px.scatter(a, x = 'city', y = 'temperature', animation_frame = \"day\")\n",
    "plot(fig)\n",
    "\n",
    "pio.write_html(fig, \"20230414_20230419_temperature_forecast.html\")"
   ]
  },
  {
   "cell_type": "code",
   "execution_count": 204,
   "metadata": {},
   "outputs": [],
   "source": [
    "fig = px.scatter(a, x = 'city', y = 'humidity', animation_frame = \"day\")\n",
    "plot(fig)\n",
    "\n",
    "pio.write_html(fig, \"20230414_20230419_humidity_forecast.html\")"
   ]
  },
  {
   "cell_type": "code",
   "execution_count": 201,
   "metadata": {},
   "outputs": [
    {
     "data": {
      "application/vnd.plotly.v1+json": {
       "config": {
        "plotlyServerURL": "https://plot.ly"
       },
       "data": [
        {
         "mode": "markers",
         "name": "T(°C)",
         "type": "scatter",
         "x": [
          "Aigues-Mortes",
          "Aigues-Mortes",
          "Aigues-Mortes",
          "Aigues-Mortes",
          "Aigues-Mortes",
          "Aigues-Mortes",
          "Aix-en-Provence",
          "Aix-en-Provence",
          "Aix-en-Provence",
          "Aix-en-Provence",
          "Aix-en-Provence",
          "Aix-en-Provence",
          "Amiens",
          "Amiens",
          "Amiens",
          "Amiens",
          "Amiens",
          "Amiens",
          "Annecy",
          "Annecy",
          "Annecy",
          "Annecy",
          "Annecy",
          "Annecy",
          "Avignon",
          "Avignon",
          "Avignon",
          "Avignon",
          "Avignon",
          "Avignon",
          "Bauduen",
          "Bauduen",
          "Bauduen",
          "Bauduen",
          "Bauduen",
          "Bauduen",
          "Bayeux",
          "Bayeux",
          "Bayeux",
          "Bayeux",
          "Bayeux",
          "Bayeux",
          "Besançon",
          "Besançon",
          "Besançon",
          "Besançon",
          "Besançon",
          "Besançon",
          "Bormes-les-Mimosas",
          "Bormes-les-Mimosas",
          "Bormes-les-Mimosas",
          "Bormes-les-Mimosas",
          "Bormes-les-Mimosas",
          "Bormes-les-Mimosas",
          "Carcassonne",
          "Carcassonne",
          "Carcassonne",
          "Carcassonne",
          "Carcassonne",
          "Carcassonne",
          "Cassis",
          "Cassis",
          "Cassis",
          "Cassis",
          "Cassis",
          "Cassis",
          "Collioure",
          "Collioure",
          "Collioure",
          "Collioure",
          "Collioure",
          "Collioure",
          "Colmar",
          "Colmar",
          "Colmar",
          "Colmar",
          "Colmar",
          "Colmar",
          "Eguisheim",
          "Eguisheim",
          "Eguisheim",
          "Eguisheim",
          "Eguisheim",
          "Eguisheim",
          "Grenoble",
          "Grenoble",
          "Grenoble",
          "Grenoble",
          "Grenoble",
          "Grenoble",
          "Huisnes-sur-Mer",
          "Huisnes-sur-Mer",
          "Huisnes-sur-Mer",
          "Huisnes-sur-Mer",
          "Huisnes-sur-Mer",
          "Huisnes-sur-Mer",
          "La Négresse",
          "La Négresse",
          "La Négresse",
          "La Négresse",
          "La Négresse",
          "La Négresse",
          "La Rochelle",
          "La Rochelle",
          "La Rochelle",
          "La Rochelle",
          "La Rochelle",
          "La Rochelle",
          "Larbont",
          "Larbont",
          "Larbont",
          "Larbont",
          "Larbont",
          "Larbont",
          "Larrey",
          "Larrey",
          "Larrey",
          "Larrey",
          "Larrey",
          "Larrey",
          "Le Havre",
          "Le Havre",
          "Le Havre",
          "Le Havre",
          "Le Havre",
          "Le Havre",
          "Le Limpou",
          "Le Limpou",
          "Le Limpou",
          "Le Limpou",
          "Le Limpou",
          "Le Limpou",
          "Lille",
          "Lille",
          "Lille",
          "Lille",
          "Lille",
          "Lille",
          "Marseille",
          "Marseille",
          "Marseille",
          "Marseille",
          "Marseille",
          "Marseille",
          "Montauban",
          "Montauban",
          "Montauban",
          "Montauban",
          "Montauban",
          "Montauban",
          "Nîmes",
          "Nîmes",
          "Nîmes",
          "Nîmes",
          "Nîmes",
          "Nîmes",
          "Paris",
          "Paris",
          "Paris",
          "Paris",
          "Paris",
          "Paris",
          "Rouen",
          "Rouen",
          "Rouen",
          "Rouen",
          "Rouen",
          "Rouen",
          "Saint-Hippolyte",
          "Saint-Hippolyte",
          "Saint-Hippolyte",
          "Saint-Hippolyte",
          "Saint-Hippolyte",
          "Saint-Hippolyte",
          "Saintes-Maries-de-la-Mer",
          "Saintes-Maries-de-la-Mer",
          "Saintes-Maries-de-la-Mer",
          "Saintes-Maries-de-la-Mer",
          "Saintes-Maries-de-la-Mer",
          "Saintes-Maries-de-la-Mer",
          "St-Malo",
          "St-Malo",
          "St-Malo",
          "St-Malo",
          "St-Malo",
          "St-Malo",
          "Strasbourg",
          "Strasbourg",
          "Strasbourg",
          "Strasbourg",
          "Strasbourg",
          "Strasbourg",
          "Toulouse",
          "Toulouse",
          "Toulouse",
          "Toulouse",
          "Toulouse",
          "Toulouse",
          "Uzès",
          "Uzès",
          "Uzès",
          "Uzès",
          "Uzès",
          "Uzès",
          "Vieux Lyon",
          "Vieux Lyon",
          "Vieux Lyon",
          "Vieux Lyon",
          "Vieux Lyon",
          "Vieux Lyon"
         ],
         "xaxis": "x",
         "y": [
          12.204,
          13.98,
          14.47125,
          14.6225,
          12.6725,
          10.686666666666667,
          11.406,
          11.2325,
          12.30625,
          13.49375,
          12.405,
          9.583333333333334,
          8.386,
          8.415,
          8.44375,
          8.615,
          8.49,
          6.1933333333333325,
          8.280000000000001,
          5.11375,
          5.96375,
          7.9275,
          7.405,
          5.873333333333334,
          11.872,
          12.3,
          11.9675,
          13.48125,
          13.42625,
          9.373333333333333,
          8.148,
          6.33625,
          8.49875,
          8.54125,
          7.89625,
          5.3500000000000005,
          8.126000000000001,
          8.23875,
          7.976249999999999,
          9.2375,
          9.0325,
          7.336666666666666,
          9.026,
          6.37125,
          7.03375,
          9.60875,
          8.73,
          5.906666666666666,
          13.378,
          13.22625,
          12.735,
          12.998750000000001,
          12.963750000000001,
          10.906666666666666,
          11.934000000000001,
          11.46875,
          10.655000000000001,
          11.27125,
          12.13375,
          9.246666666666668,
          12.032,
          12.83,
          14.06625,
          14.5325,
          12.83875,
          11.92,
          13.930000000000001,
          14.313749999999999,
          14.040000000000001,
          14.715,
          13.07625,
          10.616666666666665,
          9.434000000000001,
          7.7787500000000005,
          8.19875,
          9.26375,
          7.7275,
          7.0566666666666675,
          9.468,
          7.745,
          8.22875,
          9.25375,
          7.625,
          7.1000000000000005,
          9.554,
          6.89375,
          7.9675,
          9.23125,
          10.2325,
          7.739999999999999,
          9.952,
          9.1225,
          9.74375,
          10.59,
          9.835,
          5.9366666666666665,
          12.406,
          11.80375,
          10.5825,
          11.379999999999999,
          10.78375,
          10.263333333333334,
          11.952,
          10.60625,
          10.14875,
          11.575,
          10.965,
          8.293333333333333,
          5.496,
          4.04125,
          4.17125,
          4.76625,
          5.32375,
          3.3866666666666667,
          6.748,
          7.0912500000000005,
          7.49625,
          7.898750000000001,
          7.8475,
          5.056666666666667,
          7.386,
          8.9575,
          9.445,
          10.213750000000001,
          9.97875,
          7.913333333333334,
          12.638,
          12.19125,
          10.70875,
          11.735,
          10.9,
          10.17,
          9.59,
          9.57,
          8.52125,
          9.71875,
          9.16375,
          7.076666666666667,
          12.214,
          12.59125,
          14.195,
          14.89875,
          13.92375,
          12,
          10.848,
          11.1475,
          9.575,
          10.2975,
          10.545,
          8.026666666666667,
          10.742,
          12.41375,
          13.76875,
          13.1075,
          13.1725,
          8.496666666666666,
          7.587999999999999,
          8.7325,
          10.2825,
          10.76625,
          10.75625,
          7.53,
          6.6,
          8.34875,
          8.2825,
          9.38125,
          9.29125,
          6.726666666666667,
          6.24,
          6.001250000000001,
          4.92375,
          5.890000000000001,
          4.7675,
          3.6799999999999997,
          11.98,
          13.83125,
          14.1325,
          13.94,
          12.6075,
          10.446666666666667,
          9.986,
          9.6375,
          10.19875,
          10.59,
          9.85875,
          7.726666666666667,
          9.562000000000001,
          8.89875,
          8.561250000000001,
          9.4725,
          8.47,
          7.326666666666667,
          11.238,
          10.97875,
          9.86,
          10.4175,
          10.80875,
          9.206666666666665,
          10.802,
          11.86875,
          12.6025,
          13.1,
          12.50875,
          8.733333333333334,
          8.902,
          7.907500000000001,
          9.37375,
          9.60125,
          8.64125,
          8.243333333333334
         ],
         "yaxis": "y"
        },
        {
         "mode": "markers",
         "name": "%",
         "type": "scatter",
         "x": [
          "Aigues-Mortes",
          "Aigues-Mortes",
          "Aigues-Mortes",
          "Aigues-Mortes",
          "Aigues-Mortes",
          "Aigues-Mortes",
          "Aix-en-Provence",
          "Aix-en-Provence",
          "Aix-en-Provence",
          "Aix-en-Provence",
          "Aix-en-Provence",
          "Aix-en-Provence",
          "Amiens",
          "Amiens",
          "Amiens",
          "Amiens",
          "Amiens",
          "Amiens",
          "Annecy",
          "Annecy",
          "Annecy",
          "Annecy",
          "Annecy",
          "Annecy",
          "Avignon",
          "Avignon",
          "Avignon",
          "Avignon",
          "Avignon",
          "Avignon",
          "Bauduen",
          "Bauduen",
          "Bauduen",
          "Bauduen",
          "Bauduen",
          "Bauduen",
          "Bayeux",
          "Bayeux",
          "Bayeux",
          "Bayeux",
          "Bayeux",
          "Bayeux",
          "Besançon",
          "Besançon",
          "Besançon",
          "Besançon",
          "Besançon",
          "Besançon",
          "Bormes-les-Mimosas",
          "Bormes-les-Mimosas",
          "Bormes-les-Mimosas",
          "Bormes-les-Mimosas",
          "Bormes-les-Mimosas",
          "Bormes-les-Mimosas",
          "Carcassonne",
          "Carcassonne",
          "Carcassonne",
          "Carcassonne",
          "Carcassonne",
          "Carcassonne",
          "Cassis",
          "Cassis",
          "Cassis",
          "Cassis",
          "Cassis",
          "Cassis",
          "Collioure",
          "Collioure",
          "Collioure",
          "Collioure",
          "Collioure",
          "Collioure",
          "Colmar",
          "Colmar",
          "Colmar",
          "Colmar",
          "Colmar",
          "Colmar",
          "Eguisheim",
          "Eguisheim",
          "Eguisheim",
          "Eguisheim",
          "Eguisheim",
          "Eguisheim",
          "Grenoble",
          "Grenoble",
          "Grenoble",
          "Grenoble",
          "Grenoble",
          "Grenoble",
          "Huisnes-sur-Mer",
          "Huisnes-sur-Mer",
          "Huisnes-sur-Mer",
          "Huisnes-sur-Mer",
          "Huisnes-sur-Mer",
          "Huisnes-sur-Mer",
          "La Négresse",
          "La Négresse",
          "La Négresse",
          "La Négresse",
          "La Négresse",
          "La Négresse",
          "La Rochelle",
          "La Rochelle",
          "La Rochelle",
          "La Rochelle",
          "La Rochelle",
          "La Rochelle",
          "Larbont",
          "Larbont",
          "Larbont",
          "Larbont",
          "Larbont",
          "Larbont",
          "Larrey",
          "Larrey",
          "Larrey",
          "Larrey",
          "Larrey",
          "Larrey",
          "Le Havre",
          "Le Havre",
          "Le Havre",
          "Le Havre",
          "Le Havre",
          "Le Havre",
          "Le Limpou",
          "Le Limpou",
          "Le Limpou",
          "Le Limpou",
          "Le Limpou",
          "Le Limpou",
          "Lille",
          "Lille",
          "Lille",
          "Lille",
          "Lille",
          "Lille",
          "Marseille",
          "Marseille",
          "Marseille",
          "Marseille",
          "Marseille",
          "Marseille",
          "Montauban",
          "Montauban",
          "Montauban",
          "Montauban",
          "Montauban",
          "Montauban",
          "Nîmes",
          "Nîmes",
          "Nîmes",
          "Nîmes",
          "Nîmes",
          "Nîmes",
          "Paris",
          "Paris",
          "Paris",
          "Paris",
          "Paris",
          "Paris",
          "Rouen",
          "Rouen",
          "Rouen",
          "Rouen",
          "Rouen",
          "Rouen",
          "Saint-Hippolyte",
          "Saint-Hippolyte",
          "Saint-Hippolyte",
          "Saint-Hippolyte",
          "Saint-Hippolyte",
          "Saint-Hippolyte",
          "Saintes-Maries-de-la-Mer",
          "Saintes-Maries-de-la-Mer",
          "Saintes-Maries-de-la-Mer",
          "Saintes-Maries-de-la-Mer",
          "Saintes-Maries-de-la-Mer",
          "Saintes-Maries-de-la-Mer",
          "St-Malo",
          "St-Malo",
          "St-Malo",
          "St-Malo",
          "St-Malo",
          "St-Malo",
          "Strasbourg",
          "Strasbourg",
          "Strasbourg",
          "Strasbourg",
          "Strasbourg",
          "Strasbourg",
          "Toulouse",
          "Toulouse",
          "Toulouse",
          "Toulouse",
          "Toulouse",
          "Toulouse",
          "Uzès",
          "Uzès",
          "Uzès",
          "Uzès",
          "Uzès",
          "Uzès",
          "Vieux Lyon",
          "Vieux Lyon",
          "Vieux Lyon",
          "Vieux Lyon",
          "Vieux Lyon",
          "Vieux Lyon"
         ],
         "xaxis": "x",
         "y": [
          66.4,
          52.625,
          50.25,
          52.125,
          69.875,
          76.33333333333333,
          67,
          63.125,
          53.25,
          52.375,
          71.25,
          85.33333333333333,
          79,
          85.5,
          79.375,
          80.375,
          67.625,
          77.66666666666667,
          72,
          98.625,
          97.5,
          87.625,
          86,
          93.66666666666667,
          66.6,
          60.625,
          63.375,
          58.25,
          67.75,
          84.66666666666667,
          62.6,
          74.875,
          55.5,
          71,
          80.375,
          85.33333333333333,
          92.8,
          81.125,
          84.375,
          87.25,
          78.375,
          74.33333333333333,
          74.4,
          97.25,
          97.125,
          81,
          79,
          93.33333333333333,
          56.8,
          56,
          52.125,
          64.25,
          68,
          76.66666666666667,
          81.6,
          75.625,
          73.875,
          66.75,
          63.875,
          84,
          70,
          66.375,
          54.875,
          56.375,
          71.5,
          69.66666666666667,
          65.2,
          57.25,
          54.875,
          51,
          62.75,
          83.66666666666667,
          59.8,
          78.25,
          94.125,
          85.625,
          84.5,
          90.33333333333333,
          59.2,
          78.75,
          94.125,
          85.875,
          85.5,
          91,
          76.4,
          98.625,
          95.75,
          91,
          87.75,
          94,
          89,
          77.375,
          74.625,
          83.625,
          75.5,
          75.66666666666667,
          86,
          80.875,
          76.125,
          74.25,
          77,
          78.66666666666667,
          86.8,
          78.125,
          75.125,
          75.625,
          77.25,
          78.66666666666667,
          84,
          86.125,
          74.375,
          68.875,
          66.375,
          79.66666666666667,
          84,
          96.625,
          81.375,
          86.5,
          80.875,
          89.33333333333333,
          89.6,
          85.125,
          79.625,
          78.75,
          68.375,
          79,
          86,
          80.375,
          77,
          73.75,
          77.375,
          80,
          66.6,
          74.75,
          79.625,
          73.625,
          62.125,
          77.33333333333333,
          67.4,
          64.875,
          52.75,
          50.5,
          60.25,
          68.33333333333333,
          89,
          76.5,
          80.375,
          69.25,
          70.625,
          83,
          69.8,
          58.25,
          44.5,
          54.375,
          65,
          84,
          83,
          84.125,
          63.875,
          64.875,
          58.625,
          69.66666666666667,
          92.2,
          90,
          82.875,
          77,
          69.25,
          84.33333333333333,
          57.4,
          66.25,
          90.125,
          87.625,
          81.625,
          89.66666666666667,
          72.4,
          56.625,
          51.625,
          59.125,
          68.75,
          79.33333333333333,
          88.2,
          76.625,
          77.5,
          86.375,
          77.5,
          75.33333333333333,
          59.6,
          68.5,
          89,
          82.75,
          73.25,
          81.33333333333333,
          84.8,
          78.25,
          76,
          69.375,
          68.25,
          79,
          69.6,
          57.625,
          54.5,
          54.375,
          65.375,
          79,
          80,
          91.75,
          76.375,
          79.375,
          80.375,
          78.33333333333333
         ],
         "yaxis": "y2"
        }
       ],
       "layout": {
        "template": {
         "data": {
          "bar": [
           {
            "error_x": {
             "color": "#2a3f5f"
            },
            "error_y": {
             "color": "#2a3f5f"
            },
            "marker": {
             "line": {
              "color": "#E5ECF6",
              "width": 0.5
             },
             "pattern": {
              "fillmode": "overlay",
              "size": 10,
              "solidity": 0.2
             }
            },
            "type": "bar"
           }
          ],
          "barpolar": [
           {
            "marker": {
             "line": {
              "color": "#E5ECF6",
              "width": 0.5
             },
             "pattern": {
              "fillmode": "overlay",
              "size": 10,
              "solidity": 0.2
             }
            },
            "type": "barpolar"
           }
          ],
          "carpet": [
           {
            "aaxis": {
             "endlinecolor": "#2a3f5f",
             "gridcolor": "white",
             "linecolor": "white",
             "minorgridcolor": "white",
             "startlinecolor": "#2a3f5f"
            },
            "baxis": {
             "endlinecolor": "#2a3f5f",
             "gridcolor": "white",
             "linecolor": "white",
             "minorgridcolor": "white",
             "startlinecolor": "#2a3f5f"
            },
            "type": "carpet"
           }
          ],
          "choropleth": [
           {
            "colorbar": {
             "outlinewidth": 0,
             "ticks": ""
            },
            "type": "choropleth"
           }
          ],
          "contour": [
           {
            "colorbar": {
             "outlinewidth": 0,
             "ticks": ""
            },
            "colorscale": [
             [
              0,
              "#0d0887"
             ],
             [
              0.1111111111111111,
              "#46039f"
             ],
             [
              0.2222222222222222,
              "#7201a8"
             ],
             [
              0.3333333333333333,
              "#9c179e"
             ],
             [
              0.4444444444444444,
              "#bd3786"
             ],
             [
              0.5555555555555556,
              "#d8576b"
             ],
             [
              0.6666666666666666,
              "#ed7953"
             ],
             [
              0.7777777777777778,
              "#fb9f3a"
             ],
             [
              0.8888888888888888,
              "#fdca26"
             ],
             [
              1,
              "#f0f921"
             ]
            ],
            "type": "contour"
           }
          ],
          "contourcarpet": [
           {
            "colorbar": {
             "outlinewidth": 0,
             "ticks": ""
            },
            "type": "contourcarpet"
           }
          ],
          "heatmap": [
           {
            "colorbar": {
             "outlinewidth": 0,
             "ticks": ""
            },
            "colorscale": [
             [
              0,
              "#0d0887"
             ],
             [
              0.1111111111111111,
              "#46039f"
             ],
             [
              0.2222222222222222,
              "#7201a8"
             ],
             [
              0.3333333333333333,
              "#9c179e"
             ],
             [
              0.4444444444444444,
              "#bd3786"
             ],
             [
              0.5555555555555556,
              "#d8576b"
             ],
             [
              0.6666666666666666,
              "#ed7953"
             ],
             [
              0.7777777777777778,
              "#fb9f3a"
             ],
             [
              0.8888888888888888,
              "#fdca26"
             ],
             [
              1,
              "#f0f921"
             ]
            ],
            "type": "heatmap"
           }
          ],
          "heatmapgl": [
           {
            "colorbar": {
             "outlinewidth": 0,
             "ticks": ""
            },
            "colorscale": [
             [
              0,
              "#0d0887"
             ],
             [
              0.1111111111111111,
              "#46039f"
             ],
             [
              0.2222222222222222,
              "#7201a8"
             ],
             [
              0.3333333333333333,
              "#9c179e"
             ],
             [
              0.4444444444444444,
              "#bd3786"
             ],
             [
              0.5555555555555556,
              "#d8576b"
             ],
             [
              0.6666666666666666,
              "#ed7953"
             ],
             [
              0.7777777777777778,
              "#fb9f3a"
             ],
             [
              0.8888888888888888,
              "#fdca26"
             ],
             [
              1,
              "#f0f921"
             ]
            ],
            "type": "heatmapgl"
           }
          ],
          "histogram": [
           {
            "marker": {
             "pattern": {
              "fillmode": "overlay",
              "size": 10,
              "solidity": 0.2
             }
            },
            "type": "histogram"
           }
          ],
          "histogram2d": [
           {
            "colorbar": {
             "outlinewidth": 0,
             "ticks": ""
            },
            "colorscale": [
             [
              0,
              "#0d0887"
             ],
             [
              0.1111111111111111,
              "#46039f"
             ],
             [
              0.2222222222222222,
              "#7201a8"
             ],
             [
              0.3333333333333333,
              "#9c179e"
             ],
             [
              0.4444444444444444,
              "#bd3786"
             ],
             [
              0.5555555555555556,
              "#d8576b"
             ],
             [
              0.6666666666666666,
              "#ed7953"
             ],
             [
              0.7777777777777778,
              "#fb9f3a"
             ],
             [
              0.8888888888888888,
              "#fdca26"
             ],
             [
              1,
              "#f0f921"
             ]
            ],
            "type": "histogram2d"
           }
          ],
          "histogram2dcontour": [
           {
            "colorbar": {
             "outlinewidth": 0,
             "ticks": ""
            },
            "colorscale": [
             [
              0,
              "#0d0887"
             ],
             [
              0.1111111111111111,
              "#46039f"
             ],
             [
              0.2222222222222222,
              "#7201a8"
             ],
             [
              0.3333333333333333,
              "#9c179e"
             ],
             [
              0.4444444444444444,
              "#bd3786"
             ],
             [
              0.5555555555555556,
              "#d8576b"
             ],
             [
              0.6666666666666666,
              "#ed7953"
             ],
             [
              0.7777777777777778,
              "#fb9f3a"
             ],
             [
              0.8888888888888888,
              "#fdca26"
             ],
             [
              1,
              "#f0f921"
             ]
            ],
            "type": "histogram2dcontour"
           }
          ],
          "mesh3d": [
           {
            "colorbar": {
             "outlinewidth": 0,
             "ticks": ""
            },
            "type": "mesh3d"
           }
          ],
          "parcoords": [
           {
            "line": {
             "colorbar": {
              "outlinewidth": 0,
              "ticks": ""
             }
            },
            "type": "parcoords"
           }
          ],
          "pie": [
           {
            "automargin": true,
            "type": "pie"
           }
          ],
          "scatter": [
           {
            "fillpattern": {
             "fillmode": "overlay",
             "size": 10,
             "solidity": 0.2
            },
            "type": "scatter"
           }
          ],
          "scatter3d": [
           {
            "line": {
             "colorbar": {
              "outlinewidth": 0,
              "ticks": ""
             }
            },
            "marker": {
             "colorbar": {
              "outlinewidth": 0,
              "ticks": ""
             }
            },
            "type": "scatter3d"
           }
          ],
          "scattercarpet": [
           {
            "marker": {
             "colorbar": {
              "outlinewidth": 0,
              "ticks": ""
             }
            },
            "type": "scattercarpet"
           }
          ],
          "scattergeo": [
           {
            "marker": {
             "colorbar": {
              "outlinewidth": 0,
              "ticks": ""
             }
            },
            "type": "scattergeo"
           }
          ],
          "scattergl": [
           {
            "marker": {
             "colorbar": {
              "outlinewidth": 0,
              "ticks": ""
             }
            },
            "type": "scattergl"
           }
          ],
          "scattermapbox": [
           {
            "marker": {
             "colorbar": {
              "outlinewidth": 0,
              "ticks": ""
             }
            },
            "type": "scattermapbox"
           }
          ],
          "scatterpolar": [
           {
            "marker": {
             "colorbar": {
              "outlinewidth": 0,
              "ticks": ""
             }
            },
            "type": "scatterpolar"
           }
          ],
          "scatterpolargl": [
           {
            "marker": {
             "colorbar": {
              "outlinewidth": 0,
              "ticks": ""
             }
            },
            "type": "scatterpolargl"
           }
          ],
          "scatterternary": [
           {
            "marker": {
             "colorbar": {
              "outlinewidth": 0,
              "ticks": ""
             }
            },
            "type": "scatterternary"
           }
          ],
          "surface": [
           {
            "colorbar": {
             "outlinewidth": 0,
             "ticks": ""
            },
            "colorscale": [
             [
              0,
              "#0d0887"
             ],
             [
              0.1111111111111111,
              "#46039f"
             ],
             [
              0.2222222222222222,
              "#7201a8"
             ],
             [
              0.3333333333333333,
              "#9c179e"
             ],
             [
              0.4444444444444444,
              "#bd3786"
             ],
             [
              0.5555555555555556,
              "#d8576b"
             ],
             [
              0.6666666666666666,
              "#ed7953"
             ],
             [
              0.7777777777777778,
              "#fb9f3a"
             ],
             [
              0.8888888888888888,
              "#fdca26"
             ],
             [
              1,
              "#f0f921"
             ]
            ],
            "type": "surface"
           }
          ],
          "table": [
           {
            "cells": {
             "fill": {
              "color": "#EBF0F8"
             },
             "line": {
              "color": "white"
             }
            },
            "header": {
             "fill": {
              "color": "#C8D4E3"
             },
             "line": {
              "color": "white"
             }
            },
            "type": "table"
           }
          ]
         },
         "layout": {
          "annotationdefaults": {
           "arrowcolor": "#2a3f5f",
           "arrowhead": 0,
           "arrowwidth": 1
          },
          "autotypenumbers": "strict",
          "coloraxis": {
           "colorbar": {
            "outlinewidth": 0,
            "ticks": ""
           }
          },
          "colorscale": {
           "diverging": [
            [
             0,
             "#8e0152"
            ],
            [
             0.1,
             "#c51b7d"
            ],
            [
             0.2,
             "#de77ae"
            ],
            [
             0.3,
             "#f1b6da"
            ],
            [
             0.4,
             "#fde0ef"
            ],
            [
             0.5,
             "#f7f7f7"
            ],
            [
             0.6,
             "#e6f5d0"
            ],
            [
             0.7,
             "#b8e186"
            ],
            [
             0.8,
             "#7fbc41"
            ],
            [
             0.9,
             "#4d9221"
            ],
            [
             1,
             "#276419"
            ]
           ],
           "sequential": [
            [
             0,
             "#0d0887"
            ],
            [
             0.1111111111111111,
             "#46039f"
            ],
            [
             0.2222222222222222,
             "#7201a8"
            ],
            [
             0.3333333333333333,
             "#9c179e"
            ],
            [
             0.4444444444444444,
             "#bd3786"
            ],
            [
             0.5555555555555556,
             "#d8576b"
            ],
            [
             0.6666666666666666,
             "#ed7953"
            ],
            [
             0.7777777777777778,
             "#fb9f3a"
            ],
            [
             0.8888888888888888,
             "#fdca26"
            ],
            [
             1,
             "#f0f921"
            ]
           ],
           "sequentialminus": [
            [
             0,
             "#0d0887"
            ],
            [
             0.1111111111111111,
             "#46039f"
            ],
            [
             0.2222222222222222,
             "#7201a8"
            ],
            [
             0.3333333333333333,
             "#9c179e"
            ],
            [
             0.4444444444444444,
             "#bd3786"
            ],
            [
             0.5555555555555556,
             "#d8576b"
            ],
            [
             0.6666666666666666,
             "#ed7953"
            ],
            [
             0.7777777777777778,
             "#fb9f3a"
            ],
            [
             0.8888888888888888,
             "#fdca26"
            ],
            [
             1,
             "#f0f921"
            ]
           ]
          },
          "colorway": [
           "#636efa",
           "#EF553B",
           "#00cc96",
           "#ab63fa",
           "#FFA15A",
           "#19d3f3",
           "#FF6692",
           "#B6E880",
           "#FF97FF",
           "#FECB52"
          ],
          "font": {
           "color": "#2a3f5f"
          },
          "geo": {
           "bgcolor": "white",
           "lakecolor": "white",
           "landcolor": "#E5ECF6",
           "showlakes": true,
           "showland": true,
           "subunitcolor": "white"
          },
          "hoverlabel": {
           "align": "left"
          },
          "hovermode": "closest",
          "mapbox": {
           "style": "light"
          },
          "paper_bgcolor": "white",
          "plot_bgcolor": "#E5ECF6",
          "polar": {
           "angularaxis": {
            "gridcolor": "white",
            "linecolor": "white",
            "ticks": ""
           },
           "bgcolor": "#E5ECF6",
           "radialaxis": {
            "gridcolor": "white",
            "linecolor": "white",
            "ticks": ""
           }
          },
          "scene": {
           "xaxis": {
            "backgroundcolor": "#E5ECF6",
            "gridcolor": "white",
            "gridwidth": 2,
            "linecolor": "white",
            "showbackground": true,
            "ticks": "",
            "zerolinecolor": "white"
           },
           "yaxis": {
            "backgroundcolor": "#E5ECF6",
            "gridcolor": "white",
            "gridwidth": 2,
            "linecolor": "white",
            "showbackground": true,
            "ticks": "",
            "zerolinecolor": "white"
           },
           "zaxis": {
            "backgroundcolor": "#E5ECF6",
            "gridcolor": "white",
            "gridwidth": 2,
            "linecolor": "white",
            "showbackground": true,
            "ticks": "",
            "zerolinecolor": "white"
           }
          },
          "shapedefaults": {
           "line": {
            "color": "#2a3f5f"
           }
          },
          "ternary": {
           "aaxis": {
            "gridcolor": "white",
            "linecolor": "white",
            "ticks": ""
           },
           "baxis": {
            "gridcolor": "white",
            "linecolor": "white",
            "ticks": ""
           },
           "bgcolor": "#E5ECF6",
           "caxis": {
            "gridcolor": "white",
            "linecolor": "white",
            "ticks": ""
           }
          },
          "title": {
           "x": 0.05
          },
          "xaxis": {
           "automargin": true,
           "gridcolor": "white",
           "linecolor": "white",
           "ticks": "",
           "title": {
            "standoff": 15
           },
           "zerolinecolor": "white",
           "zerolinewidth": 2
          },
          "yaxis": {
           "automargin": true,
           "gridcolor": "white",
           "linecolor": "white",
           "ticks": "",
           "title": {
            "standoff": 15
           },
           "zerolinecolor": "white",
           "zerolinewidth": 2
          }
         }
        },
        "title": {
         "text": "Température et humidité moyenne"
        },
        "xaxis": {
         "anchor": "y",
         "domain": [
          0,
          0.94
         ],
         "title": {
          "text": "City"
         }
        },
        "yaxis": {
         "anchor": "x",
         "domain": [
          0,
          1
         ],
         "title": {
          "text": "<b>primary</b> yaxis title"
         }
        },
        "yaxis2": {
         "anchor": "x",
         "overlaying": "y",
         "side": "right",
         "title": {
          "text": "<b>secondary</b> yaxis title"
         }
        }
       }
      }
     },
     "metadata": {},
     "output_type": "display_data"
    }
   ],
   "source": [
    "import plotly.graph_objects as go\n",
    "from plotly.subplots import make_subplots\n",
    "\n",
    "# Create figure with secondary y-axis\n",
    "fig = make_subplots(specs=[[{\"secondary_y\": True}]])\n",
    "\n",
    "# Add traces\n",
    "fig.add_trace(\n",
    "    go.Scatter(x= a['city'], y=a['temperature'], name=\"T(°C)\", mode = 'markers'\n",
    "),\n",
    "    secondary_y=False)\n",
    "\n",
    "fig.add_trace(\n",
    "    go.Scatter(x=a['city'], y=a['humidity'], name=\"%\", mode = 'markers'),\n",
    "    secondary_y=True\n",
    ")\n",
    "\n",
    "# Add figure title\n",
    "fig.update_layout(\n",
    "    title_text=\"Température et humidité moyenne\"\n",
    ")\n",
    "\n",
    "# Set x-axis title\n",
    "fig.update_xaxes(title_text=\"City\")\n",
    "\n",
    "# Set y-axes titles\n",
    "fig.update_yaxes(title_text=\"<b>primary</b> yaxis title\", secondary_y=False)\n",
    "fig.update_yaxes(title_text=\"<b>secondary</b> yaxis title\", secondary_y=True)\n",
    "\n",
    "fig.show()"
   ]
  },
  {
   "cell_type": "code",
   "execution_count": 207,
   "metadata": {},
   "outputs": [
    {
     "data": {
      "text/html": [
       "<div>\n",
       "<style scoped>\n",
       "    .dataframe tbody tr th:only-of-type {\n",
       "        vertical-align: middle;\n",
       "    }\n",
       "\n",
       "    .dataframe tbody tr th {\n",
       "        vertical-align: top;\n",
       "    }\n",
       "\n",
       "    .dataframe thead th {\n",
       "        text-align: right;\n",
       "    }\n",
       "</style>\n",
       "<table border=\"1\" class=\"dataframe\">\n",
       "  <thead>\n",
       "    <tr style=\"text-align: right;\">\n",
       "      <th></th>\n",
       "      <th>city</th>\n",
       "      <th>day</th>\n",
       "      <th>temperature</th>\n",
       "      <th>humidity</th>\n",
       "    </tr>\n",
       "  </thead>\n",
       "  <tbody>\n",
       "    <tr>\n",
       "      <th>141</th>\n",
       "      <td>Marseille</td>\n",
       "      <td>2023-04-17</td>\n",
       "      <td>14.89875</td>\n",
       "      <td>50.500</td>\n",
       "    </tr>\n",
       "    <tr>\n",
       "      <th>69</th>\n",
       "      <td>Collioure</td>\n",
       "      <td>2023-04-17</td>\n",
       "      <td>14.71500</td>\n",
       "      <td>51.000</td>\n",
       "    </tr>\n",
       "    <tr>\n",
       "      <th>3</th>\n",
       "      <td>Aigues-Mortes</td>\n",
       "      <td>2023-04-17</td>\n",
       "      <td>14.62250</td>\n",
       "      <td>52.125</td>\n",
       "    </tr>\n",
       "    <tr>\n",
       "      <th>63</th>\n",
       "      <td>Cassis</td>\n",
       "      <td>2023-04-17</td>\n",
       "      <td>14.53250</td>\n",
       "      <td>56.375</td>\n",
       "    </tr>\n",
       "    <tr>\n",
       "      <th>2</th>\n",
       "      <td>Aigues-Mortes</td>\n",
       "      <td>2023-04-16</td>\n",
       "      <td>14.47125</td>\n",
       "      <td>50.250</td>\n",
       "    </tr>\n",
       "    <tr>\n",
       "      <th>67</th>\n",
       "      <td>Collioure</td>\n",
       "      <td>2023-04-15</td>\n",
       "      <td>14.31375</td>\n",
       "      <td>57.250</td>\n",
       "    </tr>\n",
       "    <tr>\n",
       "      <th>140</th>\n",
       "      <td>Marseille</td>\n",
       "      <td>2023-04-16</td>\n",
       "      <td>14.19500</td>\n",
       "      <td>52.750</td>\n",
       "    </tr>\n",
       "    <tr>\n",
       "      <th>176</th>\n",
       "      <td>Saintes-Maries-de-la-Mer</td>\n",
       "      <td>2023-04-16</td>\n",
       "      <td>14.13250</td>\n",
       "      <td>51.625</td>\n",
       "    </tr>\n",
       "    <tr>\n",
       "      <th>62</th>\n",
       "      <td>Cassis</td>\n",
       "      <td>2023-04-16</td>\n",
       "      <td>14.06625</td>\n",
       "      <td>54.875</td>\n",
       "    </tr>\n",
       "    <tr>\n",
       "      <th>68</th>\n",
       "      <td>Collioure</td>\n",
       "      <td>2023-04-16</td>\n",
       "      <td>14.04000</td>\n",
       "      <td>54.875</td>\n",
       "    </tr>\n",
       "  </tbody>\n",
       "</table>\n",
       "</div>"
      ],
      "text/plain": [
       "                         city         day  temperature  humidity\n",
       "141                 Marseille  2023-04-17     14.89875    50.500\n",
       "69                  Collioure  2023-04-17     14.71500    51.000\n",
       "3               Aigues-Mortes  2023-04-17     14.62250    52.125\n",
       "63                     Cassis  2023-04-17     14.53250    56.375\n",
       "2               Aigues-Mortes  2023-04-16     14.47125    50.250\n",
       "67                  Collioure  2023-04-15     14.31375    57.250\n",
       "140                 Marseille  2023-04-16     14.19500    52.750\n",
       "176  Saintes-Maries-de-la-Mer  2023-04-16     14.13250    51.625\n",
       "62                     Cassis  2023-04-16     14.06625    54.875\n",
       "68                  Collioure  2023-04-16     14.04000    54.875"
      ]
     },
     "execution_count": 207,
     "metadata": {},
     "output_type": "execute_result"
    }
   ],
   "source": [
    "#détermination des destinations avec la meilleur météo : meilleure température et moins d'humidité\n",
    "a.sort_values(by=[\"temperature\", \"humidity\"], ascending=[False, True]).head(10)"
   ]
  },
  {
   "cell_type": "code",
   "execution_count": 216,
   "metadata": {},
   "outputs": [
    {
     "data": {
      "text/plain": [
       "141                   Marseille\n",
       "69                    Collioure\n",
       "63                       Cassis\n",
       "3                 Aigues-Mortes\n",
       "176    Saintes-Maries-de-la-Mer\n",
       "Name: city, dtype: object"
      ]
     },
     "execution_count": 216,
     "metadata": {},
     "output_type": "execute_result"
    }
   ],
   "source": [
    "top = a.sort_values(by=[\"real_feel\", \"humidity\"], ascending=[False, True]).head(10)\n",
    "top_city = top['city'].drop_duplicates()\n",
    "top_city"
   ]
  },
  {
   "cell_type": "code",
   "execution_count": 217,
   "metadata": {},
   "outputs": [],
   "source": [
    "w.to_csv(\"20230414_20230419_whole_weather_forecast.csv\")\n",
    "a.to_csv(\"20230414_20230419_avg_day_weather_forecast.csv\")"
   ]
  },
  {
   "cell_type": "code",
   "execution_count": 219,
   "metadata": {},
   "outputs": [
    {
     "data": {
      "text/plain": [
       "Index(['Unnamed: 0', 'cities', 'latitudes', 'longitudes'], dtype='object')"
      ]
     },
     "execution_count": 219,
     "metadata": {},
     "output_type": "execute_result"
    }
   ],
   "source": [
    "gps = pd.read_csv(\"cities_lat_lon.csv\")\n",
    "gps.columns"
   ]
  },
  {
   "cell_type": "code",
   "execution_count": 220,
   "metadata": {},
   "outputs": [],
   "source": [
    "a_gps = a.merge(gps, left_on = 'city', right_on='cities')"
   ]
  },
  {
   "cell_type": "code",
   "execution_count": 230,
   "metadata": {},
   "outputs": [
    {
     "data": {
      "application/vnd.plotly.v1+json": {
       "config": {
        "plotlyServerURL": "https://plot.ly"
       },
       "data": [
        {
         "hovertemplate": "<b>%{hovertext}</b><br><br>day=2023-04-14<br>humidity=%{marker.size}<br>latitudes=%{lat}<br>longitudes=%{lon}<br>temperature=%{marker.color}<extra></extra>",
         "hovertext": [
          "Amiens",
          "Annecy",
          "Avignon",
          "Bayeux",
          "Carcassonne",
          "Cassis",
          "Collioure",
          "Colmar",
          "Eguisheim",
          "Grenoble",
          "La Rochelle",
          "Le Havre",
          "Lille",
          "Marseille",
          "Montauban",
          "Paris",
          "Rouen",
          "Strasbourg",
          "Toulouse"
         ],
         "lat": [
          49.8941708,
          45.8992348,
          43.9492493,
          49.2764624,
          43.2130358,
          43.2140359,
          42.52505,
          48.0777517,
          48.0447968,
          45.1875602,
          46.1591126,
          49.4938975,
          50.6365654,
          43.2961743,
          44.0175835,
          48.8534951,
          49.4404591,
          48.584614,
          43.6044622
         ],
         "legendgroup": "",
         "lon": [
          2.2956951,
          6.1288847,
          4.8059012,
          -0.7024738,
          2.3491069,
          5.5396318,
          3.0831554,
          7.3579641,
          7.3079618,
          5.7357819,
          -1.1520434,
          0.1079732,
          3.0635282,
          5.3699525,
          1.3549991,
          2.3483915,
          1.0939658,
          7.7507127,
          1.4442469
         ],
         "marker": {
          "color": [
           8.386,
           8.280000000000001,
           11.872,
           8.126000000000001,
           11.934000000000001,
           12.032,
           13.930000000000001,
           9.434000000000001,
           9.468,
           9.554,
           11.952,
           7.386,
           9.59,
           12.214,
           10.848,
           7.587999999999999,
           6.6,
           9.562000000000001,
           11.238
          ],
          "coloraxis": "coloraxis",
          "size": [
           79,
           72,
           66.6,
           92.8,
           81.6,
           70,
           65.2,
           59.8,
           59.2,
           76.4,
           86.8,
           89.6,
           66.6,
           67.4,
           89,
           83,
           92.2,
           59.6,
           84.8
          ],
          "sizemode": "area",
          "sizeref": 0.2465625
         },
         "mode": "markers",
         "name": "",
         "showlegend": false,
         "subplot": "mapbox",
         "type": "scattermapbox"
        }
       ],
       "frames": [
        {
         "data": [
          {
           "hovertemplate": "<b>%{hovertext}</b><br><br>day=2023-04-14<br>humidity=%{marker.size}<br>latitudes=%{lat}<br>longitudes=%{lon}<br>temperature=%{marker.color}<extra></extra>",
           "hovertext": [
            "Amiens",
            "Annecy",
            "Avignon",
            "Bayeux",
            "Carcassonne",
            "Cassis",
            "Collioure",
            "Colmar",
            "Eguisheim",
            "Grenoble",
            "La Rochelle",
            "Le Havre",
            "Lille",
            "Marseille",
            "Montauban",
            "Paris",
            "Rouen",
            "Strasbourg",
            "Toulouse"
           ],
           "lat": [
            49.8941708,
            45.8992348,
            43.9492493,
            49.2764624,
            43.2130358,
            43.2140359,
            42.52505,
            48.0777517,
            48.0447968,
            45.1875602,
            46.1591126,
            49.4938975,
            50.6365654,
            43.2961743,
            44.0175835,
            48.8534951,
            49.4404591,
            48.584614,
            43.6044622
           ],
           "legendgroup": "",
           "lon": [
            2.2956951,
            6.1288847,
            4.8059012,
            -0.7024738,
            2.3491069,
            5.5396318,
            3.0831554,
            7.3579641,
            7.3079618,
            5.7357819,
            -1.1520434,
            0.1079732,
            3.0635282,
            5.3699525,
            1.3549991,
            2.3483915,
            1.0939658,
            7.7507127,
            1.4442469
           ],
           "marker": {
            "color": [
             8.386,
             8.280000000000001,
             11.872,
             8.126000000000001,
             11.934000000000001,
             12.032,
             13.930000000000001,
             9.434000000000001,
             9.468,
             9.554,
             11.952,
             7.386,
             9.59,
             12.214,
             10.848,
             7.587999999999999,
             6.6,
             9.562000000000001,
             11.238
            ],
            "coloraxis": "coloraxis",
            "size": [
             79,
             72,
             66.6,
             92.8,
             81.6,
             70,
             65.2,
             59.8,
             59.2,
             76.4,
             86.8,
             89.6,
             66.6,
             67.4,
             89,
             83,
             92.2,
             59.6,
             84.8
            ],
            "sizemode": "area",
            "sizeref": 0.2465625
           },
           "mode": "markers",
           "name": "",
           "showlegend": false,
           "subplot": "mapbox",
           "type": "scattermapbox"
          }
         ],
         "name": "2023-04-14"
        },
        {
         "data": [
          {
           "hovertemplate": "<b>%{hovertext}</b><br><br>day=2023-04-15<br>humidity=%{marker.size}<br>latitudes=%{lat}<br>longitudes=%{lon}<br>temperature=%{marker.color}<extra></extra>",
           "hovertext": [
            "Amiens",
            "Annecy",
            "Avignon",
            "Bayeux",
            "Carcassonne",
            "Cassis",
            "Collioure",
            "Colmar",
            "Eguisheim",
            "Grenoble",
            "La Rochelle",
            "Le Havre",
            "Lille",
            "Marseille",
            "Montauban",
            "Paris",
            "Rouen",
            "Strasbourg",
            "Toulouse"
           ],
           "lat": [
            49.8941708,
            45.8992348,
            43.9492493,
            49.2764624,
            43.2130358,
            43.2140359,
            42.52505,
            48.0777517,
            48.0447968,
            45.1875602,
            46.1591126,
            49.4938975,
            50.6365654,
            43.2961743,
            44.0175835,
            48.8534951,
            49.4404591,
            48.584614,
            43.6044622
           ],
           "legendgroup": "",
           "lon": [
            2.2956951,
            6.1288847,
            4.8059012,
            -0.7024738,
            2.3491069,
            5.5396318,
            3.0831554,
            7.3579641,
            7.3079618,
            5.7357819,
            -1.1520434,
            0.1079732,
            3.0635282,
            5.3699525,
            1.3549991,
            2.3483915,
            1.0939658,
            7.7507127,
            1.4442469
           ],
           "marker": {
            "color": [
             8.415,
             5.11375,
             12.3,
             8.23875,
             11.46875,
             12.83,
             14.313749999999999,
             7.7787500000000005,
             7.745,
             6.89375,
             10.60625,
             8.9575,
             9.57,
             12.59125,
             11.1475,
             8.7325,
             8.34875,
             8.89875,
             10.97875
            ],
            "coloraxis": "coloraxis",
            "size": [
             85.5,
             98.625,
             60.625,
             81.125,
             75.625,
             66.375,
             57.25,
             78.25,
             78.75,
             98.625,
             78.125,
             85.125,
             74.75,
             64.875,
             76.5,
             84.125,
             90,
             68.5,
             78.25
            ],
            "sizemode": "area",
            "sizeref": 0.2465625
           },
           "mode": "markers",
           "name": "",
           "showlegend": false,
           "subplot": "mapbox",
           "type": "scattermapbox"
          }
         ],
         "name": "2023-04-15"
        },
        {
         "data": [
          {
           "hovertemplate": "<b>%{hovertext}</b><br><br>day=2023-04-16<br>humidity=%{marker.size}<br>latitudes=%{lat}<br>longitudes=%{lon}<br>temperature=%{marker.color}<extra></extra>",
           "hovertext": [
            "Amiens",
            "Annecy",
            "Avignon",
            "Bayeux",
            "Carcassonne",
            "Cassis",
            "Collioure",
            "Colmar",
            "Eguisheim",
            "Grenoble",
            "La Rochelle",
            "Le Havre",
            "Lille",
            "Marseille",
            "Montauban",
            "Paris",
            "Rouen",
            "Strasbourg",
            "Toulouse"
           ],
           "lat": [
            49.8941708,
            45.8992348,
            43.9492493,
            49.2764624,
            43.2130358,
            43.2140359,
            42.52505,
            48.0777517,
            48.0447968,
            45.1875602,
            46.1591126,
            49.4938975,
            50.6365654,
            43.2961743,
            44.0175835,
            48.8534951,
            49.4404591,
            48.584614,
            43.6044622
           ],
           "legendgroup": "",
           "lon": [
            2.2956951,
            6.1288847,
            4.8059012,
            -0.7024738,
            2.3491069,
            5.5396318,
            3.0831554,
            7.3579641,
            7.3079618,
            5.7357819,
            -1.1520434,
            0.1079732,
            3.0635282,
            5.3699525,
            1.3549991,
            2.3483915,
            1.0939658,
            7.7507127,
            1.4442469
           ],
           "marker": {
            "color": [
             8.44375,
             5.96375,
             11.9675,
             7.976249999999999,
             10.655000000000001,
             14.06625,
             14.040000000000001,
             8.19875,
             8.22875,
             7.9675,
             10.14875,
             9.445,
             8.52125,
             14.195,
             9.575,
             10.2825,
             8.2825,
             8.561250000000001,
             9.86
            ],
            "coloraxis": "coloraxis",
            "size": [
             79.375,
             97.5,
             63.375,
             84.375,
             73.875,
             54.875,
             54.875,
             94.125,
             94.125,
             95.75,
             75.125,
             79.625,
             79.625,
             52.75,
             80.375,
             63.875,
             82.875,
             89,
             76
            ],
            "sizemode": "area",
            "sizeref": 0.2465625
           },
           "mode": "markers",
           "name": "",
           "showlegend": false,
           "subplot": "mapbox",
           "type": "scattermapbox"
          }
         ],
         "name": "2023-04-16"
        },
        {
         "data": [
          {
           "hovertemplate": "<b>%{hovertext}</b><br><br>day=2023-04-17<br>humidity=%{marker.size}<br>latitudes=%{lat}<br>longitudes=%{lon}<br>temperature=%{marker.color}<extra></extra>",
           "hovertext": [
            "Amiens",
            "Annecy",
            "Avignon",
            "Bayeux",
            "Carcassonne",
            "Cassis",
            "Collioure",
            "Colmar",
            "Eguisheim",
            "Grenoble",
            "La Rochelle",
            "Le Havre",
            "Lille",
            "Marseille",
            "Montauban",
            "Paris",
            "Rouen",
            "Strasbourg",
            "Toulouse"
           ],
           "lat": [
            49.8941708,
            45.8992348,
            43.9492493,
            49.2764624,
            43.2130358,
            43.2140359,
            42.52505,
            48.0777517,
            48.0447968,
            45.1875602,
            46.1591126,
            49.4938975,
            50.6365654,
            43.2961743,
            44.0175835,
            48.8534951,
            49.4404591,
            48.584614,
            43.6044622
           ],
           "legendgroup": "",
           "lon": [
            2.2956951,
            6.1288847,
            4.8059012,
            -0.7024738,
            2.3491069,
            5.5396318,
            3.0831554,
            7.3579641,
            7.3079618,
            5.7357819,
            -1.1520434,
            0.1079732,
            3.0635282,
            5.3699525,
            1.3549991,
            2.3483915,
            1.0939658,
            7.7507127,
            1.4442469
           ],
           "marker": {
            "color": [
             8.615,
             7.9275,
             13.48125,
             9.2375,
             11.27125,
             14.5325,
             14.715,
             9.26375,
             9.25375,
             9.23125,
             11.575,
             10.213750000000001,
             9.71875,
             14.89875,
             10.2975,
             10.76625,
             9.38125,
             9.4725,
             10.4175
            ],
            "coloraxis": "coloraxis",
            "size": [
             80.375,
             87.625,
             58.25,
             87.25,
             66.75,
             56.375,
             51,
             85.625,
             85.875,
             91,
             75.625,
             78.75,
             73.625,
             50.5,
             69.25,
             64.875,
             77,
             82.75,
             69.375
            ],
            "sizemode": "area",
            "sizeref": 0.2465625
           },
           "mode": "markers",
           "name": "",
           "showlegend": false,
           "subplot": "mapbox",
           "type": "scattermapbox"
          }
         ],
         "name": "2023-04-17"
        },
        {
         "data": [
          {
           "hovertemplate": "<b>%{hovertext}</b><br><br>day=2023-04-18<br>humidity=%{marker.size}<br>latitudes=%{lat}<br>longitudes=%{lon}<br>temperature=%{marker.color}<extra></extra>",
           "hovertext": [
            "Amiens",
            "Annecy",
            "Avignon",
            "Bayeux",
            "Carcassonne",
            "Cassis",
            "Collioure",
            "Colmar",
            "Eguisheim",
            "Grenoble",
            "La Rochelle",
            "Le Havre",
            "Lille",
            "Marseille",
            "Montauban",
            "Paris",
            "Rouen",
            "Strasbourg",
            "Toulouse"
           ],
           "lat": [
            49.8941708,
            45.8992348,
            43.9492493,
            49.2764624,
            43.2130358,
            43.2140359,
            42.52505,
            48.0777517,
            48.0447968,
            45.1875602,
            46.1591126,
            49.4938975,
            50.6365654,
            43.2961743,
            44.0175835,
            48.8534951,
            49.4404591,
            48.584614,
            43.6044622
           ],
           "legendgroup": "",
           "lon": [
            2.2956951,
            6.1288847,
            4.8059012,
            -0.7024738,
            2.3491069,
            5.5396318,
            3.0831554,
            7.3579641,
            7.3079618,
            5.7357819,
            -1.1520434,
            0.1079732,
            3.0635282,
            5.3699525,
            1.3549991,
            2.3483915,
            1.0939658,
            7.7507127,
            1.4442469
           ],
           "marker": {
            "color": [
             8.49,
             7.405,
             13.42625,
             9.0325,
             12.13375,
             12.83875,
             13.07625,
             7.7275,
             7.625,
             10.2325,
             10.965,
             9.97875,
             9.16375,
             13.92375,
             10.545,
             10.75625,
             9.29125,
             8.47,
             10.80875
            ],
            "coloraxis": "coloraxis",
            "size": [
             67.625,
             86,
             67.75,
             78.375,
             63.875,
             71.5,
             62.75,
             84.5,
             85.5,
             87.75,
             77.25,
             68.375,
             62.125,
             60.25,
             70.625,
             58.625,
             69.25,
             73.25,
             68.25
            ],
            "sizemode": "area",
            "sizeref": 0.2465625
           },
           "mode": "markers",
           "name": "",
           "showlegend": false,
           "subplot": "mapbox",
           "type": "scattermapbox"
          }
         ],
         "name": "2023-04-18"
        },
        {
         "data": [
          {
           "hovertemplate": "<b>%{hovertext}</b><br><br>day=2023-04-19<br>humidity=%{marker.size}<br>latitudes=%{lat}<br>longitudes=%{lon}<br>temperature=%{marker.color}<extra></extra>",
           "hovertext": [
            "Amiens",
            "Annecy",
            "Avignon",
            "Bayeux",
            "Carcassonne",
            "Cassis",
            "Collioure",
            "Colmar",
            "Eguisheim",
            "Grenoble",
            "La Rochelle",
            "Le Havre",
            "Lille",
            "Marseille",
            "Montauban",
            "Paris",
            "Rouen",
            "Strasbourg",
            "Toulouse"
           ],
           "lat": [
            49.8941708,
            45.8992348,
            43.9492493,
            49.2764624,
            43.2130358,
            43.2140359,
            42.52505,
            48.0777517,
            48.0447968,
            45.1875602,
            46.1591126,
            49.4938975,
            50.6365654,
            43.2961743,
            44.0175835,
            48.8534951,
            49.4404591,
            48.584614,
            43.6044622
           ],
           "legendgroup": "",
           "lon": [
            2.2956951,
            6.1288847,
            4.8059012,
            -0.7024738,
            2.3491069,
            5.5396318,
            3.0831554,
            7.3579641,
            7.3079618,
            5.7357819,
            -1.1520434,
            0.1079732,
            3.0635282,
            5.3699525,
            1.3549991,
            2.3483915,
            1.0939658,
            7.7507127,
            1.4442469
           ],
           "marker": {
            "color": [
             6.1933333333333325,
             5.873333333333334,
             9.373333333333333,
             7.336666666666666,
             9.246666666666668,
             11.92,
             10.616666666666665,
             7.0566666666666675,
             7.1000000000000005,
             7.739999999999999,
             8.293333333333333,
             7.913333333333334,
             7.076666666666667,
             12,
             8.026666666666667,
             7.53,
             6.726666666666667,
             7.326666666666667,
             9.206666666666665
            ],
            "coloraxis": "coloraxis",
            "size": [
             77.66666666666667,
             93.66666666666667,
             84.66666666666667,
             74.33333333333333,
             84,
             69.66666666666667,
             83.66666666666667,
             90.33333333333333,
             91,
             94,
             78.66666666666667,
             79,
             77.33333333333333,
             68.33333333333333,
             83,
             69.66666666666667,
             84.33333333333333,
             81.33333333333333,
             79
            ],
            "sizemode": "area",
            "sizeref": 0.2465625
           },
           "mode": "markers",
           "name": "",
           "showlegend": false,
           "subplot": "mapbox",
           "type": "scattermapbox"
          }
         ],
         "name": "2023-04-19"
        }
       ],
       "layout": {
        "coloraxis": {
         "colorbar": {
          "title": {
           "text": "temperature"
          }
         },
         "colorscale": [
          [
           0,
           "#30123b"
          ],
          [
           0.07142857142857142,
           "#4145ab"
          ],
          [
           0.14285714285714285,
           "#4675ed"
          ],
          [
           0.21428571428571427,
           "#39a2fc"
          ],
          [
           0.2857142857142857,
           "#1bcfd4"
          ],
          [
           0.35714285714285715,
           "#24eca6"
          ],
          [
           0.42857142857142855,
           "#61fc6c"
          ],
          [
           0.5,
           "#a4fc3b"
          ],
          [
           0.5714285714285714,
           "#d1e834"
          ],
          [
           0.6428571428571429,
           "#f3c63a"
          ],
          [
           0.7142857142857143,
           "#fe9b2d"
          ],
          [
           0.7857142857142857,
           "#f36315"
          ],
          [
           0.8571428571428571,
           "#d93806"
          ],
          [
           0.9285714285714286,
           "#b11901"
          ],
          [
           1,
           "#7a0402"
          ]
         ]
        },
        "legend": {
         "itemsizing": "constant",
         "tracegroupgap": 0
        },
        "mapbox": {
         "center": {
          "lat": 46.49303744210529,
          "lon": 3.4359650315789443
         },
         "domain": {
          "x": [
           0,
           1
          ],
          "y": [
           0,
           1
          ]
         },
         "style": "carto-positron",
         "zoom": 3
        },
        "margin": {
         "t": 60
        },
        "sliders": [
         {
          "active": 0,
          "currentvalue": {
           "prefix": "day="
          },
          "len": 0.9,
          "pad": {
           "b": 10,
           "t": 60
          },
          "steps": [
           {
            "args": [
             [
              "2023-04-14"
             ],
             {
              "frame": {
               "duration": 0,
               "redraw": true
              },
              "fromcurrent": true,
              "mode": "immediate",
              "transition": {
               "duration": 0,
               "easing": "linear"
              }
             }
            ],
            "label": "2023-04-14",
            "method": "animate"
           },
           {
            "args": [
             [
              "2023-04-15"
             ],
             {
              "frame": {
               "duration": 0,
               "redraw": true
              },
              "fromcurrent": true,
              "mode": "immediate",
              "transition": {
               "duration": 0,
               "easing": "linear"
              }
             }
            ],
            "label": "2023-04-15",
            "method": "animate"
           },
           {
            "args": [
             [
              "2023-04-16"
             ],
             {
              "frame": {
               "duration": 0,
               "redraw": true
              },
              "fromcurrent": true,
              "mode": "immediate",
              "transition": {
               "duration": 0,
               "easing": "linear"
              }
             }
            ],
            "label": "2023-04-16",
            "method": "animate"
           },
           {
            "args": [
             [
              "2023-04-17"
             ],
             {
              "frame": {
               "duration": 0,
               "redraw": true
              },
              "fromcurrent": true,
              "mode": "immediate",
              "transition": {
               "duration": 0,
               "easing": "linear"
              }
             }
            ],
            "label": "2023-04-17",
            "method": "animate"
           },
           {
            "args": [
             [
              "2023-04-18"
             ],
             {
              "frame": {
               "duration": 0,
               "redraw": true
              },
              "fromcurrent": true,
              "mode": "immediate",
              "transition": {
               "duration": 0,
               "easing": "linear"
              }
             }
            ],
            "label": "2023-04-18",
            "method": "animate"
           },
           {
            "args": [
             [
              "2023-04-19"
             ],
             {
              "frame": {
               "duration": 0,
               "redraw": true
              },
              "fromcurrent": true,
              "mode": "immediate",
              "transition": {
               "duration": 0,
               "easing": "linear"
              }
             }
            ],
            "label": "2023-04-19",
            "method": "animate"
           }
          ],
          "x": 0.1,
          "xanchor": "left",
          "y": 0,
          "yanchor": "top"
         }
        ],
        "template": {
         "data": {
          "bar": [
           {
            "error_x": {
             "color": "#2a3f5f"
            },
            "error_y": {
             "color": "#2a3f5f"
            },
            "marker": {
             "line": {
              "color": "#E5ECF6",
              "width": 0.5
             },
             "pattern": {
              "fillmode": "overlay",
              "size": 10,
              "solidity": 0.2
             }
            },
            "type": "bar"
           }
          ],
          "barpolar": [
           {
            "marker": {
             "line": {
              "color": "#E5ECF6",
              "width": 0.5
             },
             "pattern": {
              "fillmode": "overlay",
              "size": 10,
              "solidity": 0.2
             }
            },
            "type": "barpolar"
           }
          ],
          "carpet": [
           {
            "aaxis": {
             "endlinecolor": "#2a3f5f",
             "gridcolor": "white",
             "linecolor": "white",
             "minorgridcolor": "white",
             "startlinecolor": "#2a3f5f"
            },
            "baxis": {
             "endlinecolor": "#2a3f5f",
             "gridcolor": "white",
             "linecolor": "white",
             "minorgridcolor": "white",
             "startlinecolor": "#2a3f5f"
            },
            "type": "carpet"
           }
          ],
          "choropleth": [
           {
            "colorbar": {
             "outlinewidth": 0,
             "ticks": ""
            },
            "type": "choropleth"
           }
          ],
          "contour": [
           {
            "colorbar": {
             "outlinewidth": 0,
             "ticks": ""
            },
            "colorscale": [
             [
              0,
              "#0d0887"
             ],
             [
              0.1111111111111111,
              "#46039f"
             ],
             [
              0.2222222222222222,
              "#7201a8"
             ],
             [
              0.3333333333333333,
              "#9c179e"
             ],
             [
              0.4444444444444444,
              "#bd3786"
             ],
             [
              0.5555555555555556,
              "#d8576b"
             ],
             [
              0.6666666666666666,
              "#ed7953"
             ],
             [
              0.7777777777777778,
              "#fb9f3a"
             ],
             [
              0.8888888888888888,
              "#fdca26"
             ],
             [
              1,
              "#f0f921"
             ]
            ],
            "type": "contour"
           }
          ],
          "contourcarpet": [
           {
            "colorbar": {
             "outlinewidth": 0,
             "ticks": ""
            },
            "type": "contourcarpet"
           }
          ],
          "heatmap": [
           {
            "colorbar": {
             "outlinewidth": 0,
             "ticks": ""
            },
            "colorscale": [
             [
              0,
              "#0d0887"
             ],
             [
              0.1111111111111111,
              "#46039f"
             ],
             [
              0.2222222222222222,
              "#7201a8"
             ],
             [
              0.3333333333333333,
              "#9c179e"
             ],
             [
              0.4444444444444444,
              "#bd3786"
             ],
             [
              0.5555555555555556,
              "#d8576b"
             ],
             [
              0.6666666666666666,
              "#ed7953"
             ],
             [
              0.7777777777777778,
              "#fb9f3a"
             ],
             [
              0.8888888888888888,
              "#fdca26"
             ],
             [
              1,
              "#f0f921"
             ]
            ],
            "type": "heatmap"
           }
          ],
          "heatmapgl": [
           {
            "colorbar": {
             "outlinewidth": 0,
             "ticks": ""
            },
            "colorscale": [
             [
              0,
              "#0d0887"
             ],
             [
              0.1111111111111111,
              "#46039f"
             ],
             [
              0.2222222222222222,
              "#7201a8"
             ],
             [
              0.3333333333333333,
              "#9c179e"
             ],
             [
              0.4444444444444444,
              "#bd3786"
             ],
             [
              0.5555555555555556,
              "#d8576b"
             ],
             [
              0.6666666666666666,
              "#ed7953"
             ],
             [
              0.7777777777777778,
              "#fb9f3a"
             ],
             [
              0.8888888888888888,
              "#fdca26"
             ],
             [
              1,
              "#f0f921"
             ]
            ],
            "type": "heatmapgl"
           }
          ],
          "histogram": [
           {
            "marker": {
             "pattern": {
              "fillmode": "overlay",
              "size": 10,
              "solidity": 0.2
             }
            },
            "type": "histogram"
           }
          ],
          "histogram2d": [
           {
            "colorbar": {
             "outlinewidth": 0,
             "ticks": ""
            },
            "colorscale": [
             [
              0,
              "#0d0887"
             ],
             [
              0.1111111111111111,
              "#46039f"
             ],
             [
              0.2222222222222222,
              "#7201a8"
             ],
             [
              0.3333333333333333,
              "#9c179e"
             ],
             [
              0.4444444444444444,
              "#bd3786"
             ],
             [
              0.5555555555555556,
              "#d8576b"
             ],
             [
              0.6666666666666666,
              "#ed7953"
             ],
             [
              0.7777777777777778,
              "#fb9f3a"
             ],
             [
              0.8888888888888888,
              "#fdca26"
             ],
             [
              1,
              "#f0f921"
             ]
            ],
            "type": "histogram2d"
           }
          ],
          "histogram2dcontour": [
           {
            "colorbar": {
             "outlinewidth": 0,
             "ticks": ""
            },
            "colorscale": [
             [
              0,
              "#0d0887"
             ],
             [
              0.1111111111111111,
              "#46039f"
             ],
             [
              0.2222222222222222,
              "#7201a8"
             ],
             [
              0.3333333333333333,
              "#9c179e"
             ],
             [
              0.4444444444444444,
              "#bd3786"
             ],
             [
              0.5555555555555556,
              "#d8576b"
             ],
             [
              0.6666666666666666,
              "#ed7953"
             ],
             [
              0.7777777777777778,
              "#fb9f3a"
             ],
             [
              0.8888888888888888,
              "#fdca26"
             ],
             [
              1,
              "#f0f921"
             ]
            ],
            "type": "histogram2dcontour"
           }
          ],
          "mesh3d": [
           {
            "colorbar": {
             "outlinewidth": 0,
             "ticks": ""
            },
            "type": "mesh3d"
           }
          ],
          "parcoords": [
           {
            "line": {
             "colorbar": {
              "outlinewidth": 0,
              "ticks": ""
             }
            },
            "type": "parcoords"
           }
          ],
          "pie": [
           {
            "automargin": true,
            "type": "pie"
           }
          ],
          "scatter": [
           {
            "fillpattern": {
             "fillmode": "overlay",
             "size": 10,
             "solidity": 0.2
            },
            "type": "scatter"
           }
          ],
          "scatter3d": [
           {
            "line": {
             "colorbar": {
              "outlinewidth": 0,
              "ticks": ""
             }
            },
            "marker": {
             "colorbar": {
              "outlinewidth": 0,
              "ticks": ""
             }
            },
            "type": "scatter3d"
           }
          ],
          "scattercarpet": [
           {
            "marker": {
             "colorbar": {
              "outlinewidth": 0,
              "ticks": ""
             }
            },
            "type": "scattercarpet"
           }
          ],
          "scattergeo": [
           {
            "marker": {
             "colorbar": {
              "outlinewidth": 0,
              "ticks": ""
             }
            },
            "type": "scattergeo"
           }
          ],
          "scattergl": [
           {
            "marker": {
             "colorbar": {
              "outlinewidth": 0,
              "ticks": ""
             }
            },
            "type": "scattergl"
           }
          ],
          "scattermapbox": [
           {
            "marker": {
             "colorbar": {
              "outlinewidth": 0,
              "ticks": ""
             }
            },
            "type": "scattermapbox"
           }
          ],
          "scatterpolar": [
           {
            "marker": {
             "colorbar": {
              "outlinewidth": 0,
              "ticks": ""
             }
            },
            "type": "scatterpolar"
           }
          ],
          "scatterpolargl": [
           {
            "marker": {
             "colorbar": {
              "outlinewidth": 0,
              "ticks": ""
             }
            },
            "type": "scatterpolargl"
           }
          ],
          "scatterternary": [
           {
            "marker": {
             "colorbar": {
              "outlinewidth": 0,
              "ticks": ""
             }
            },
            "type": "scatterternary"
           }
          ],
          "surface": [
           {
            "colorbar": {
             "outlinewidth": 0,
             "ticks": ""
            },
            "colorscale": [
             [
              0,
              "#0d0887"
             ],
             [
              0.1111111111111111,
              "#46039f"
             ],
             [
              0.2222222222222222,
              "#7201a8"
             ],
             [
              0.3333333333333333,
              "#9c179e"
             ],
             [
              0.4444444444444444,
              "#bd3786"
             ],
             [
              0.5555555555555556,
              "#d8576b"
             ],
             [
              0.6666666666666666,
              "#ed7953"
             ],
             [
              0.7777777777777778,
              "#fb9f3a"
             ],
             [
              0.8888888888888888,
              "#fdca26"
             ],
             [
              1,
              "#f0f921"
             ]
            ],
            "type": "surface"
           }
          ],
          "table": [
           {
            "cells": {
             "fill": {
              "color": "#EBF0F8"
             },
             "line": {
              "color": "white"
             }
            },
            "header": {
             "fill": {
              "color": "#C8D4E3"
             },
             "line": {
              "color": "white"
             }
            },
            "type": "table"
           }
          ]
         },
         "layout": {
          "annotationdefaults": {
           "arrowcolor": "#2a3f5f",
           "arrowhead": 0,
           "arrowwidth": 1
          },
          "autotypenumbers": "strict",
          "coloraxis": {
           "colorbar": {
            "outlinewidth": 0,
            "ticks": ""
           }
          },
          "colorscale": {
           "diverging": [
            [
             0,
             "#8e0152"
            ],
            [
             0.1,
             "#c51b7d"
            ],
            [
             0.2,
             "#de77ae"
            ],
            [
             0.3,
             "#f1b6da"
            ],
            [
             0.4,
             "#fde0ef"
            ],
            [
             0.5,
             "#f7f7f7"
            ],
            [
             0.6,
             "#e6f5d0"
            ],
            [
             0.7,
             "#b8e186"
            ],
            [
             0.8,
             "#7fbc41"
            ],
            [
             0.9,
             "#4d9221"
            ],
            [
             1,
             "#276419"
            ]
           ],
           "sequential": [
            [
             0,
             "#0d0887"
            ],
            [
             0.1111111111111111,
             "#46039f"
            ],
            [
             0.2222222222222222,
             "#7201a8"
            ],
            [
             0.3333333333333333,
             "#9c179e"
            ],
            [
             0.4444444444444444,
             "#bd3786"
            ],
            [
             0.5555555555555556,
             "#d8576b"
            ],
            [
             0.6666666666666666,
             "#ed7953"
            ],
            [
             0.7777777777777778,
             "#fb9f3a"
            ],
            [
             0.8888888888888888,
             "#fdca26"
            ],
            [
             1,
             "#f0f921"
            ]
           ],
           "sequentialminus": [
            [
             0,
             "#0d0887"
            ],
            [
             0.1111111111111111,
             "#46039f"
            ],
            [
             0.2222222222222222,
             "#7201a8"
            ],
            [
             0.3333333333333333,
             "#9c179e"
            ],
            [
             0.4444444444444444,
             "#bd3786"
            ],
            [
             0.5555555555555556,
             "#d8576b"
            ],
            [
             0.6666666666666666,
             "#ed7953"
            ],
            [
             0.7777777777777778,
             "#fb9f3a"
            ],
            [
             0.8888888888888888,
             "#fdca26"
            ],
            [
             1,
             "#f0f921"
            ]
           ]
          },
          "colorway": [
           "#636efa",
           "#EF553B",
           "#00cc96",
           "#ab63fa",
           "#FFA15A",
           "#19d3f3",
           "#FF6692",
           "#B6E880",
           "#FF97FF",
           "#FECB52"
          ],
          "font": {
           "color": "#2a3f5f"
          },
          "geo": {
           "bgcolor": "white",
           "lakecolor": "white",
           "landcolor": "#E5ECF6",
           "showlakes": true,
           "showland": true,
           "subunitcolor": "white"
          },
          "hoverlabel": {
           "align": "left"
          },
          "hovermode": "closest",
          "mapbox": {
           "style": "light"
          },
          "paper_bgcolor": "white",
          "plot_bgcolor": "#E5ECF6",
          "polar": {
           "angularaxis": {
            "gridcolor": "white",
            "linecolor": "white",
            "ticks": ""
           },
           "bgcolor": "#E5ECF6",
           "radialaxis": {
            "gridcolor": "white",
            "linecolor": "white",
            "ticks": ""
           }
          },
          "scene": {
           "xaxis": {
            "backgroundcolor": "#E5ECF6",
            "gridcolor": "white",
            "gridwidth": 2,
            "linecolor": "white",
            "showbackground": true,
            "ticks": "",
            "zerolinecolor": "white"
           },
           "yaxis": {
            "backgroundcolor": "#E5ECF6",
            "gridcolor": "white",
            "gridwidth": 2,
            "linecolor": "white",
            "showbackground": true,
            "ticks": "",
            "zerolinecolor": "white"
           },
           "zaxis": {
            "backgroundcolor": "#E5ECF6",
            "gridcolor": "white",
            "gridwidth": 2,
            "linecolor": "white",
            "showbackground": true,
            "ticks": "",
            "zerolinecolor": "white"
           }
          },
          "shapedefaults": {
           "line": {
            "color": "#2a3f5f"
           }
          },
          "ternary": {
           "aaxis": {
            "gridcolor": "white",
            "linecolor": "white",
            "ticks": ""
           },
           "baxis": {
            "gridcolor": "white",
            "linecolor": "white",
            "ticks": ""
           },
           "bgcolor": "#E5ECF6",
           "caxis": {
            "gridcolor": "white",
            "linecolor": "white",
            "ticks": ""
           }
          },
          "title": {
           "x": 0.05
          },
          "xaxis": {
           "automargin": true,
           "gridcolor": "white",
           "linecolor": "white",
           "ticks": "",
           "title": {
            "standoff": 15
           },
           "zerolinecolor": "white",
           "zerolinewidth": 2
          },
          "yaxis": {
           "automargin": true,
           "gridcolor": "white",
           "linecolor": "white",
           "ticks": "",
           "title": {
            "standoff": 15
           },
           "zerolinecolor": "white",
           "zerolinewidth": 2
          }
         }
        },
        "updatemenus": [
         {
          "buttons": [
           {
            "args": [
             null,
             {
              "frame": {
               "duration": 500,
               "redraw": true
              },
              "fromcurrent": true,
              "mode": "immediate",
              "transition": {
               "duration": 500,
               "easing": "linear"
              }
             }
            ],
            "label": "&#9654;",
            "method": "animate"
           },
           {
            "args": [
             [
              null
             ],
             {
              "frame": {
               "duration": 0,
               "redraw": true
              },
              "fromcurrent": true,
              "mode": "immediate",
              "transition": {
               "duration": 0,
               "easing": "linear"
              }
             }
            ],
            "label": "&#9724;",
            "method": "animate"
           }
          ],
          "direction": "left",
          "pad": {
           "r": 10,
           "t": 70
          },
          "showactive": false,
          "type": "buttons",
          "x": 0.1,
          "xanchor": "right",
          "y": 0,
          "yanchor": "top"
         }
        ]
       }
      }
     },
     "metadata": {},
     "output_type": "display_data"
    }
   ],
   "source": [
    "#Map of temperature of cities\n",
    "fig = px.scatter_mapbox(a_gps, lat=\"latitudes\", lon=\"longitudes\", animation_frame = \"day\", color=\"temperature\",color_continuous_scale='turbo', size=\"humidity\", zoom=3, mapbox_style=\"carto-positron\", hover_name=\"city\")\n",
    "fig.show()"
   ]
  },
  {
   "cell_type": "code",
   "execution_count": null,
   "metadata": {},
   "outputs": [],
   "source": []
  }
 ],
 "metadata": {
  "kernelspec": {
   "display_name": "base",
   "language": "python",
   "name": "python3"
  },
  "language_info": {
   "codemirror_mode": {
    "name": "ipython",
    "version": 3
   },
   "file_extension": ".py",
   "mimetype": "text/x-python",
   "name": "python",
   "nbconvert_exporter": "python",
   "pygments_lexer": "ipython3",
   "version": "3.9.13"
  },
  "orig_nbformat": 4
 },
 "nbformat": 4,
 "nbformat_minor": 2
}
