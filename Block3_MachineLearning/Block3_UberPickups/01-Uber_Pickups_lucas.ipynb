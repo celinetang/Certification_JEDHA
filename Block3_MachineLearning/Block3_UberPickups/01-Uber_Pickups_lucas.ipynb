{
 "cells": [
  {
   "cell_type": "markdown",
   "metadata": {},
   "source": [
    "<img src=\"https://upload.wikimedia.org/wikipedia/commons/thumb/5/58/Uber_logo_2018.svg/1024px-Uber_logo_2018.svg.png\" alt=\"UBER LOGO\" width=\"50%\" />\n",
    "\n",
    "# UBER Pickups "
   ]
  },
  {
   "cell_type": "markdown",
   "metadata": {},
   "source": [
    "## Company's Description 📇\n",
    "\n",
    "<a href=\"http://uber.com/\" target=\"_blank\">Uber</a> is one of the most famous startup in the world. It started as a ride-sharing application for people who couldn't afford a taxi. Now, Uber expanded its activities to Food Delivery with <a href=\"https://www.ubereats.com/fr-en\" target=\"_blank\">Uber Eats</a>, package delivery, freight transportation and even urban transportation with <a href=\"https://www.uber.com/fr/en/ride/uber-bike/\" target=\"_blank\"> Jump Bike</a> and <a href=\"https://www.li.me/\" target=\"_blank\"> Lime </a> that the company funded. \n",
    "\n",
    "\n",
    "The company's goal is to revolutionize transportation accross the globe. It operates now on about 70 countries and 900 cities and generates over $14 billion revenue! 😮\n"
   ]
  },
  {
   "cell_type": "markdown",
   "metadata": {},
   "source": [
    "## Project 🚧\n",
    "\n",
    "One of the main pain point that Uber's team found is that sometimes drivers are not around when users need them. For example, a user might be in San Francisco's Financial District whereas Uber drivers are looking for customers in Castro.  \n",
    "\n",
    "(If you are not familiar with the bay area, check out <a href=\"https://www.google.com/maps/place/San+Francisco,+CA,+USA/@37.7515389,-122.4567213,13.43z/data=!4m5!3m4!1s0x80859a6d00690021:0x4a501367f076adff!8m2!3d37.7749295!4d-122.4194155\" target=\"_blank\">Google Maps</a>)\n",
    "\n",
    "Eventhough both neighborhood are not that far away, users would still have to wait 10 to 15 minutes before being picked-up, which is too long. Uber's research shows that users accept to wait 5-7 minutes, otherwise they would cancel their ride. \n",
    "\n",
    "Therefore, Uber's data team would like to work on a project where **their app would recommend hot-zones in major cities to be in at any given time of day.**  "
   ]
  },
  {
   "cell_type": "markdown",
   "metadata": {},
   "source": [
    "## Goals 🎯\n",
    "\n",
    "Uber already has data about pickups in major cities. Your objective is to create algorithms that will determine where are the hot-zones that drivers should be in. Therefore you will:\n",
    "\n",
    "* Create an algorithm to find hot zones \n",
    "* Visualize results on a nice dashboard "
   ]
  },
  {
   "cell_type": "markdown",
   "metadata": {},
   "source": [
    "## Scope of this project 🖼️\n",
    "\n",
    "To start off, Uber wants to try this feature in New York city. Therefore you will only focus on this city. Data can be found here: \n",
    "\n",
    "👉👉<a href=\"https://full-stack-bigdata-datasets.s3.eu-west-3.amazonaws.com/Machine+Learning+non+Supervis%C3%A9/Projects/uber-trip-data.zip\" target=\"_blank\"> Uber Trip Data</a> 👈👈\n",
    "\n",
    "**You only need to focus on New York City for this project**"
   ]
  },
  {
   "cell_type": "markdown",
   "metadata": {},
   "source": [
    "## Helpers 🦮\n",
    "\n",
    "To help you achieve this project, here are a few tips that should help you: \n",
    "\n",
    "### Clustering is your friend \n",
    "\n",
    "Clustering technics are a perfect fit for the job. Think about it, all the pickup locations can be gathered into different clusters. You can then use **cluster coordinates to pin hot zones** 😉\n",
    "    \n",
    "\n",
    "### Create maps with `plotly` \n",
    "\n",
    "Check out <a href=\"https://plotly.com/\" target=\"_blank\">Plotly</a> documentation, you can create maps and populate them easily. Obviously, there are other libraries but this one should do the job pretty well. \n",
    "\n",
    "\n",
    "### Start small grow big \n",
    "\n",
    "Eventhough Uber wants to have hot-zones per hour and per day of week, you should first **start small**. Pick one day at a given hour and **then start to generalize** your approach. "
   ]
  },
  {
   "cell_type": "markdown",
   "metadata": {},
   "source": [
    "## Deliverable 📬\n",
    "\n",
    "To complete this project, your team should: \n",
    "\n",
    "* Have a map with hot-zones using any python library (`plotly` or anything else). \n",
    "* You should **at least** describe hot-zones per day of week. \n",
    "* Compare results with **at least** two unsupervised algorithms like KMeans and DBScan. \n",
    "\n",
    "Your maps should look something like this: \n",
    "\n",
    "<img src=\"https://full-stack-assets.s3.eu-west-3.amazonaws.com/images/Clusters_uber_pickups.png\" alt=\"Uber Cluster Map\" />"
   ]
  },
  {
   "cell_type": "code",
   "execution_count": 1,
   "metadata": {},
   "outputs": [],
   "source": [
    "import pandas as pd , numpy as np , datetime as dt\n",
    "import matplotlib.pyplot as plt , seaborn as sns , plotly.express as px \n",
    "\n",
    "\n",
    "from sklearn.preprocessing import StandardScaler \n",
    "from sklearn.metrics import silhouette_score\n",
    "from sklearn.cluster import DBSCAN , OPTICS\n",
    "\n",
    "\n",
    "from PIL import Image"
   ]
  },
  {
   "cell_type": "code",
   "execution_count": 2,
   "metadata": {},
   "outputs": [
    {
     "name": "stdout",
     "output_type": "stream",
     "text": [
      "(564516, 4)\n"
     ]
    },
    {
     "data": {
      "text/html": [
       "<div>\n",
       "<style scoped>\n",
       "    .dataframe tbody tr th:only-of-type {\n",
       "        vertical-align: middle;\n",
       "    }\n",
       "\n",
       "    .dataframe tbody tr th {\n",
       "        vertical-align: top;\n",
       "    }\n",
       "\n",
       "    .dataframe thead th {\n",
       "        text-align: right;\n",
       "    }\n",
       "</style>\n",
       "<table border=\"1\" class=\"dataframe\">\n",
       "  <thead>\n",
       "    <tr style=\"text-align: right;\">\n",
       "      <th></th>\n",
       "      <th>Date/Time</th>\n",
       "      <th>Lat</th>\n",
       "      <th>Lon</th>\n",
       "      <th>Base</th>\n",
       "    </tr>\n",
       "  </thead>\n",
       "  <tbody>\n",
       "    <tr>\n",
       "      <th>0</th>\n",
       "      <td>2014-04-01 00:11:00</td>\n",
       "      <td>40.7690</td>\n",
       "      <td>-73.9549</td>\n",
       "      <td>B02512</td>\n",
       "    </tr>\n",
       "    <tr>\n",
       "      <th>1</th>\n",
       "      <td>2014-04-01 00:17:00</td>\n",
       "      <td>40.7267</td>\n",
       "      <td>-74.0345</td>\n",
       "      <td>B02512</td>\n",
       "    </tr>\n",
       "    <tr>\n",
       "      <th>2</th>\n",
       "      <td>2014-04-01 00:21:00</td>\n",
       "      <td>40.7316</td>\n",
       "      <td>-73.9873</td>\n",
       "      <td>B02512</td>\n",
       "    </tr>\n",
       "    <tr>\n",
       "      <th>3</th>\n",
       "      <td>2014-04-01 00:28:00</td>\n",
       "      <td>40.7588</td>\n",
       "      <td>-73.9776</td>\n",
       "      <td>B02512</td>\n",
       "    </tr>\n",
       "    <tr>\n",
       "      <th>4</th>\n",
       "      <td>2014-04-01 00:33:00</td>\n",
       "      <td>40.7594</td>\n",
       "      <td>-73.9722</td>\n",
       "      <td>B02512</td>\n",
       "    </tr>\n",
       "  </tbody>\n",
       "</table>\n",
       "</div>"
      ],
      "text/plain": [
       "            Date/Time      Lat      Lon    Base\n",
       "0 2014-04-01 00:11:00  40.7690 -73.9549  B02512\n",
       "1 2014-04-01 00:17:00  40.7267 -74.0345  B02512\n",
       "2 2014-04-01 00:21:00  40.7316 -73.9873  B02512\n",
       "3 2014-04-01 00:28:00  40.7588 -73.9776  B02512\n",
       "4 2014-04-01 00:33:00  40.7594 -73.9722  B02512"
      ]
     },
     "execution_count": 2,
     "metadata": {},
     "output_type": "execute_result"
    }
   ],
   "source": [
    "# df = pd.concat([pd.read_csv(f'data/uber-raw-data-{month}.csv' , parse_dates=['Date/Time']) for month in ('apr14', 'may14', 'jun14', 'jul14', 'aug14', 'sep14')])\n",
    "df = pd.read_csv('data\\\\uber-raw-data-apr14.csv' , parse_dates=['Date/Time']) \n",
    "print(df.shape)\n",
    "df.head()"
   ]
  },
  {
   "cell_type": "code",
   "execution_count": 3,
   "metadata": {},
   "outputs": [
    {
     "data": {
      "text/html": [
       "<div>\n",
       "<style scoped>\n",
       "    .dataframe tbody tr th:only-of-type {\n",
       "        vertical-align: middle;\n",
       "    }\n",
       "\n",
       "    .dataframe tbody tr th {\n",
       "        vertical-align: top;\n",
       "    }\n",
       "\n",
       "    .dataframe thead th {\n",
       "        text-align: right;\n",
       "    }\n",
       "</style>\n",
       "<table border=\"1\" class=\"dataframe\">\n",
       "  <thead>\n",
       "    <tr style=\"text-align: right;\">\n",
       "      <th></th>\n",
       "      <th>Date/Time</th>\n",
       "      <th>Lat</th>\n",
       "      <th>Lon</th>\n",
       "      <th>Base</th>\n",
       "      <th>Day</th>\n",
       "      <th>Hour</th>\n",
       "    </tr>\n",
       "  </thead>\n",
       "  <tbody>\n",
       "    <tr>\n",
       "      <th>0</th>\n",
       "      <td>2014-04-01 00:11:00</td>\n",
       "      <td>40.7690</td>\n",
       "      <td>-73.9549</td>\n",
       "      <td>B02512</td>\n",
       "      <td>1</td>\n",
       "      <td>0</td>\n",
       "    </tr>\n",
       "    <tr>\n",
       "      <th>1</th>\n",
       "      <td>2014-04-01 00:17:00</td>\n",
       "      <td>40.7267</td>\n",
       "      <td>-74.0345</td>\n",
       "      <td>B02512</td>\n",
       "      <td>1</td>\n",
       "      <td>0</td>\n",
       "    </tr>\n",
       "    <tr>\n",
       "      <th>2</th>\n",
       "      <td>2014-04-01 00:21:00</td>\n",
       "      <td>40.7316</td>\n",
       "      <td>-73.9873</td>\n",
       "      <td>B02512</td>\n",
       "      <td>1</td>\n",
       "      <td>0</td>\n",
       "    </tr>\n",
       "    <tr>\n",
       "      <th>3</th>\n",
       "      <td>2014-04-01 00:28:00</td>\n",
       "      <td>40.7588</td>\n",
       "      <td>-73.9776</td>\n",
       "      <td>B02512</td>\n",
       "      <td>1</td>\n",
       "      <td>0</td>\n",
       "    </tr>\n",
       "    <tr>\n",
       "      <th>4</th>\n",
       "      <td>2014-04-01 00:33:00</td>\n",
       "      <td>40.7594</td>\n",
       "      <td>-73.9722</td>\n",
       "      <td>B02512</td>\n",
       "      <td>1</td>\n",
       "      <td>0</td>\n",
       "    </tr>\n",
       "  </tbody>\n",
       "</table>\n",
       "</div>"
      ],
      "text/plain": [
       "            Date/Time      Lat      Lon    Base  Day  Hour\n",
       "0 2014-04-01 00:11:00  40.7690 -73.9549  B02512    1     0\n",
       "1 2014-04-01 00:17:00  40.7267 -74.0345  B02512    1     0\n",
       "2 2014-04-01 00:21:00  40.7316 -73.9873  B02512    1     0\n",
       "3 2014-04-01 00:28:00  40.7588 -73.9776  B02512    1     0\n",
       "4 2014-04-01 00:33:00  40.7594 -73.9722  B02512    1     0"
      ]
     },
     "execution_count": 3,
     "metadata": {},
     "output_type": "execute_result"
    }
   ],
   "source": [
    "# Add day and hour as features \n",
    "df['Day'] = df['Date/Time'].dt.day_of_week\n",
    "df['Hour'] = df['Date/Time'].dt.hour\n",
    "\n",
    "df.head()"
   ]
  },
  {
   "cell_type": "code",
   "execution_count": 4,
   "metadata": {},
   "outputs": [
    {
     "data": {
      "image/png": "[encoded data removed]",
      "text/plain": [
       "<Figure size 936x504 with 1 Axes>"
      ]
     },
     "metadata": {
      "needs_background": "light"
     },
     "output_type": "display_data"
    }
   ],
   "source": [
    "sns.set_context('talk')\n",
    "sns.set_style('darkgrid')\n",
    "\n",
    "days = {0: \"Monday\",\n",
    "        1: \"Tuesday\",\n",
    "        2: \"Wednesday\",\n",
    "        3: \"Thursday\",\n",
    "        4: \"Friday\",\n",
    "        5: \"Saturday\",\n",
    "        6: \"Sunday\"}\n",
    "\n",
    "to_plot = df.copy()\n",
    "to_plot['Day'] = [days.get(day) for day in list(df['Day'])]\n",
    "plt.figure(figsize=(13,7))\n",
    "sns.countplot(data=to_plot , x='Day' , color='gold' , edgecolor='black')\n",
    "plt.title('Number of pickup per day of week')\n",
    "plt.show()"
   ]
  },
  {
   "cell_type": "code",
   "execution_count": 5,
   "metadata": {},
   "outputs": [
    {
     "data": {
      "image/png": "[encoded data removed]",
      "text/plain": [
       "<Figure size 936x504 with 1 Axes>"
      ]
     },
     "metadata": {
      "needs_background": "light"
     },
     "output_type": "display_data"
    }
   ],
   "source": [
    "plt.figure(figsize=(13,7))\n",
    "sns.countplot(data=df , x='Hour' , color='gold' , edgecolor='black')\n",
    "plt.title('Number of pickup per hour of day')\n",
    "plt.show()"
   ]
  },
  {
   "cell_type": "code",
   "execution_count": 6,
   "metadata": {},
   "outputs": [
    {
     "data": {
      "image/png": "[encoded data removed]",
      "text/plain": [
       "<Figure size 1080x504 with 2 Axes>"
      ]
     },
     "metadata": {
      "needs_background": "light"
     },
     "output_type": "display_data"
    }
   ],
   "source": [
    "# Plot the distribution of lats and longs \n",
    "fig , (ax1 , ax2) = plt.subplots(1 , 2 , figsize=(15,7))\n",
    "ax1.hist(df['Lat'] , bins=50 , edgecolor='black' , color='blue' , label='Lat')\n",
    "ax2.hist(df['Lon'] , bins=50 , edgecolor='black' , color='red' , label='Long')\n",
    "ax1.legend()\n",
    "ax2.legend()\n",
    "fig.suptitle('Lat and long distributions')\n",
    "plt.show()"
   ]
  },
  {
   "attachments": {},
   "cell_type": "markdown",
   "metadata": {},
   "source": [
    "## Clustering using DBSCAN and OPTIC"
   ]
  },
  {
   "cell_type": "code",
   "execution_count": 7,
   "metadata": {},
   "outputs": [
    {
     "name": "stdout",
     "output_type": "stream",
     "text": [
      "Lenghts :  9151\n"
     ]
    },
    {
     "data": {
      "text/html": [
       "<div>\n",
       "<style scoped>\n",
       "    .dataframe tbody tr th:only-of-type {\n",
       "        vertical-align: middle;\n",
       "    }\n",
       "\n",
       "    .dataframe tbody tr th {\n",
       "        vertical-align: top;\n",
       "    }\n",
       "\n",
       "    .dataframe thead th {\n",
       "        text-align: right;\n",
       "    }\n",
       "</style>\n",
       "<table border=\"1\" class=\"dataframe\">\n",
       "  <thead>\n",
       "    <tr style=\"text-align: right;\">\n",
       "      <th></th>\n",
       "      <th>Lat</th>\n",
       "      <th>Lon</th>\n",
       "    </tr>\n",
       "  </thead>\n",
       "  <tbody>\n",
       "    <tr>\n",
       "      <th>1836</th>\n",
       "      <td>0.600695</td>\n",
       "      <td>-0.005955</td>\n",
       "    </tr>\n",
       "    <tr>\n",
       "      <th>1837</th>\n",
       "      <td>0.434677</td>\n",
       "      <td>-0.130422</td>\n",
       "    </tr>\n",
       "    <tr>\n",
       "      <th>1838</th>\n",
       "      <td>0.535590</td>\n",
       "      <td>-0.032285</td>\n",
       "    </tr>\n",
       "    <tr>\n",
       "      <th>1839</th>\n",
       "      <td>0.252382</td>\n",
       "      <td>0.118511</td>\n",
       "    </tr>\n",
       "    <tr>\n",
       "      <th>1840</th>\n",
       "      <td>-0.867429</td>\n",
       "      <td>-0.525365</td>\n",
       "    </tr>\n",
       "  </tbody>\n",
       "</table>\n",
       "</div>"
      ],
      "text/plain": [
       "           Lat       Lon\n",
       "1836  0.600695 -0.005955\n",
       "1837  0.434677 -0.130422\n",
       "1838  0.535590 -0.032285\n",
       "1839  0.252382  0.118511\n",
       "1840 -0.867429 -0.525365"
      ]
     },
     "execution_count": 7,
     "metadata": {},
     "output_type": "execute_result"
    }
   ],
   "source": [
    "# Standardize for clustering\n",
    "training_df = df[(df['Day'] == 2) & (df['Hour'] == 17)][['Lat',\t'Lon']]\n",
    "testing_df = training_df.copy() # For visualisation\n",
    "training_df[['Lat' , 'Lon']] = StandardScaler().fit_transform(training_df[['Lat' , 'Lon']])\n",
    "print('Lenghts : ' , len(training_df))\n",
    "training_df.head()"
   ]
  },
  {
   "cell_type": "code",
   "execution_count": 8,
   "metadata": {},
   "outputs": [
    {
     "name": "stdout",
     "output_type": "stream",
     "text": [
      "Fitting DBSCAN ...\n",
      "Fitting OPTICS ...\n"
     ]
    },
    {
     "name": "stderr",
     "output_type": "stream",
     "text": [
      "C:\\Users\\lucas\\AppData\\Roaming\\Python\\Python310\\site-packages\\sklearn\\cluster\\_optics.py:932: RuntimeWarning: divide by zero encountered in true_divide\n",
      "  ratio = reachability_plot[:-1] / reachability_plot[1:]\n"
     ]
    },
    {
     "data": {
      "text/html": [
       "<style>#sk-container-id-1 {color: black;background-color: white;}#sk-container-id-1 pre{padding: 0;}#sk-container-id-1 div.sk-toggleable {background-color: white;}#sk-container-id-1 label.sk-toggleable__label {cursor: pointer;display: block;width: 100%;margin-bottom: 0;padding: 0.3em;box-sizing: border-box;text-align: center;}#sk-container-id-1 label.sk-toggleable__label-arrow:before {content: \"▸\";float: left;margin-right: 0.25em;color: #696969;}#sk-container-id-1 label.sk-toggleable__label-arrow:hover:before {color: black;}#sk-container-id-1 div.sk-estimator:hover label.sk-toggleable__label-arrow:before {color: black;}#sk-container-id-1 div.sk-toggleable__content {max-height: 0;max-width: 0;overflow: hidden;text-align: left;background-color: #f0f8ff;}#sk-container-id-1 div.sk-toggleable__content pre {margin: 0.2em;color: black;border-radius: 0.25em;background-color: #f0f8ff;}#sk-container-id-1 input.sk-toggleable__control:checked~div.sk-toggleable__content {max-height: 200px;max-width: 100%;overflow: auto;}#sk-container-id-1 input.sk-toggleable__control:checked~label.sk-toggleable__label-arrow:before {content: \"▾\";}#sk-container-id-1 div.sk-estimator input.sk-toggleable__control:checked~label.sk-toggleable__label {background-color: #d4ebff;}#sk-container-id-1 div.sk-label input.sk-toggleable__control:checked~label.sk-toggleable__label {background-color: #d4ebff;}#sk-container-id-1 input.sk-hidden--visually {border: 0;clip: rect(1px 1px 1px 1px);clip: rect(1px, 1px, 1px, 1px);height: 1px;margin: -1px;overflow: hidden;padding: 0;position: absolute;width: 1px;}#sk-container-id-1 div.sk-estimator {font-family: monospace;background-color: #f0f8ff;border: 1px dotted black;border-radius: 0.25em;box-sizing: border-box;margin-bottom: 0.5em;}#sk-container-id-1 div.sk-estimator:hover {background-color: #d4ebff;}#sk-container-id-1 div.sk-parallel-item::after {content: \"\";width: 100%;border-bottom: 1px solid gray;flex-grow: 1;}#sk-container-id-1 div.sk-label:hover label.sk-toggleable__label {background-color: #d4ebff;}#sk-container-id-1 div.sk-serial::before {content: \"\";position: absolute;border-left: 1px solid gray;box-sizing: border-box;top: 0;bottom: 0;left: 50%;z-index: 0;}#sk-container-id-1 div.sk-serial {display: flex;flex-direction: column;align-items: center;background-color: white;padding-right: 0.2em;padding-left: 0.2em;position: relative;}#sk-container-id-1 div.sk-item {position: relative;z-index: 1;}#sk-container-id-1 div.sk-parallel {display: flex;align-items: stretch;justify-content: center;background-color: white;position: relative;}#sk-container-id-1 div.sk-item::before, #sk-container-id-1 div.sk-parallel-item::before {content: \"\";position: absolute;border-left: 1px solid gray;box-sizing: border-box;top: 0;bottom: 0;left: 50%;z-index: -1;}#sk-container-id-1 div.sk-parallel-item {display: flex;flex-direction: column;z-index: 1;position: relative;background-color: white;}#sk-container-id-1 div.sk-parallel-item:first-child::after {align-self: flex-end;width: 50%;}#sk-container-id-1 div.sk-parallel-item:last-child::after {align-self: flex-start;width: 50%;}#sk-container-id-1 div.sk-parallel-item:only-child::after {width: 0;}#sk-container-id-1 div.sk-dashed-wrapped {border: 1px dashed gray;margin: 0 0.4em 0.5em 0.4em;box-sizing: border-box;padding-bottom: 0.4em;background-color: white;}#sk-container-id-1 div.sk-label label {font-family: monospace;font-weight: bold;display: inline-block;line-height: 1.2em;}#sk-container-id-1 div.sk-label-container {text-align: center;}#sk-container-id-1 div.sk-container {/* jupyter's `normalize.less` sets `[hidden] { display: none; }` but bootstrap.min.css set `[hidden] { display: none !important; }` so we also need the `!important` here to be able to override the default hidden behavior on the sphinx rendered scikit-learn.org. See: https://github.com/scikit-learn/scikit-learn/issues/21755 */display: inline-block !important;position: relative;}#sk-container-id-1 div.sk-text-repr-fallback {display: none;}</style><div id=\"sk-container-id-1\" class=\"sk-top-container\"><div class=\"sk-text-repr-fallback\"><pre>OPTICS(metric=&#x27;manhattan&#x27;)</pre><b>In a Jupyter environment, please rerun this cell to show the HTML representation or trust the notebook. <br />On GitHub, the HTML representation is unable to render, please try loading this page with nbviewer.org.</b></div><div class=\"sk-container\" hidden><div class=\"sk-item\"><div class=\"sk-estimator sk-toggleable\"><input class=\"sk-toggleable__control sk-hidden--visually\" id=\"sk-estimator-id-1\" type=\"checkbox\" checked><label for=\"sk-estimator-id-1\" class=\"sk-toggleable__label sk-toggleable__label-arrow\">OPTICS</label><div class=\"sk-toggleable__content\"><pre>OPTICS(metric=&#x27;manhattan&#x27;)</pre></div></div></div></div></div>"
      ],
      "text/plain": [
       "OPTICS(metric='manhattan')"
      ]
     },
     "execution_count": 8,
     "metadata": {},
     "output_type": "execute_result"
    }
   ],
   "source": [
    "dbscan = DBSCAN(metric='manhattan' , n_jobs=-1 , eps=0.2 , min_samples=10)\n",
    "optics = OPTICS(metric='manhattan')\n",
    "\n",
    "print('Fitting DBSCAN ...')\n",
    "dbscan.fit(training_df)\n",
    "\n",
    "print('Fitting OPTICS ...')\n",
    "optics.fit(training_df)"
   ]
  },
  {
   "cell_type": "code",
   "execution_count": 9,
   "metadata": {},
   "outputs": [
    {
     "name": "stdout",
     "output_type": "stream",
     "text": [
      "Silhouette score for DBSCAN :  0.0716801778646233\n",
      "Silhouette score for optics :  -0.035196495569851646\n"
     ]
    }
   ],
   "source": [
    "db_silhouete = silhouette_score(training_df , dbscan.labels_)\n",
    "opt_silhouete = silhouette_score(training_df , optics.labels_)\n",
    "\n",
    "print('Silhouette score for DBSCAN : ' , db_silhouete) # DBSCAN does a better work\n",
    "print('Silhouette score for optics : ' , opt_silhouete)"
   ]
  },
  {
   "cell_type": "code",
   "execution_count": 10,
   "metadata": {},
   "outputs": [
    {
     "name": "stdout",
     "output_type": "stream",
     "text": [
      "N of unique labels :  15\n"
     ]
    },
    {
     "data": {
      "image/png": "[encoded data removed]",
      "text/plain": [
       "<Figure size 936x504 with 1 Axes>"
      ]
     },
     "metadata": {
      "needs_background": "light"
     },
     "output_type": "display_data"
    }
   ],
   "source": [
    "# Let's visualise the results\n",
    "testing_df['Label'] = dbscan.labels_\n",
    "print('N of unique labels : ' , testing_df.Label.nunique())\n",
    "\n",
    "\n",
    "to_plot = testing_df.groupby('Label' , as_index=False)['Lat'].count().sort_values(by='Lat' , ascending=False)\n",
    "plt.figure(figsize=(13,7))\n",
    "plt.bar(to_plot['Label'].astype('str') , to_plot['Lat'] , color='gold' , edgecolor='black')\n",
    "plt.title('Count by cluster')\n",
    "plt.show()"
   ]
  },
  {
   "cell_type": "code",
   "execution_count": 24,
   "metadata": {},
   "outputs": [],
   "source": [
    "fig = px.scatter_mapbox(testing_df[testing_df['Label'] != -1], lat=\"Lat\", lon=\"Lon\", zoom = 10, # -1 is considered noise \n",
    "                        color = 'Label', color_discrete_sequence = px.colors.sequential.Inferno, template='plotly',\n",
    "                        mapbox_style='open-street-map',width = 1050, height = 900,\n",
    "                        title='Clustering with DBSCAN results')\n",
    "\n",
    "# fig.show()"
   ]
  },
  {
   "attachments": {},
   "cell_type": "markdown",
   "metadata": {},
   "source": [
    "<img src=\"newplot.png\" alt=\"Uber Cluster Map\" />"
   ]
  },
  {
   "attachments": {},
   "cell_type": "markdown",
   "metadata": {},
   "source": [
    "Now that I have chosen my algorithm and it's parameters , I will create a function to predict hot zone per day of week and hour."
   ]
  },
  {
   "cell_type": "code",
   "execution_count": 12,
   "metadata": {},
   "outputs": [],
   "source": [
    "def plot_hot_spot_per_hour_and_day(df : pd.DataFrame , day : str , hour : int):\n",
    "\n",
    "\n",
    "    days = {\"Monday\" : 0,\n",
    "        \"Tuesday\" : 1 ,\n",
    "        \"Wednesday\" : 2,\n",
    "        \"Thursday\" : 3,\n",
    "        \"Friday\" : 4,\n",
    "        \"Saturday\" : 5,\n",
    "        \"Sunday\" : 6}\n",
    "    \n",
    "    string_day = day \n",
    "    day_ = days.get(day)\n",
    "\n",
    "    model = DBSCAN(eps=0.2 , min_samples=10 , n_jobs=-1)\n",
    "    subset = df[(df['Day'] == day_) & (df['Hour'] == hour)][['Lat' , 'Lon']]\n",
    "    to_plot = subset.copy(deep=True)\n",
    "\n",
    "    subset[['Lat' , 'Lon']] = StandardScaler().fit_transform(subset[['Lat' , 'Lon']])\n",
    "\n",
    "    model.fit(subset)\n",
    "    labels = model.labels_\n",
    "    subset['Cluster'] = labels\n",
    "    to_plot['Cluster'] = labels\n",
    "\n",
    "\n",
    "    centroids , size_ , clusters  = [] , [] , []\n",
    "    for label in set(labels):\n",
    "        if label != -1: # -1 is Noise\n",
    "            coords = to_plot[to_plot['Cluster'] == label][['Lat',\t'Lon']].values\n",
    "            centroid = list(np.mean(coords, axis=0))\n",
    "            centroids.append(centroid)\n",
    "            size_.append(len(to_plot[labels == label]))\n",
    "            clusters.append(label)\n",
    "\n",
    "\n",
    "    centroid_df = pd.DataFrame({'Lat' : np.array(centroids)[: , 0]  , 'Lon' : np.array(centroids)[: , 1] , 'N_pick_ups' : size_,\n",
    "                            'Cluster' : clusters , 'Point_size' : [2 for i in range(len(centroids))]})\n",
    "    \n",
    "\n",
    "    fig = px.scatter_mapbox(centroid_df, lat=\"Lat\", lon=\"Lon\", zoom = 10, # -1 is considered noise \n",
    "                        color = 'Cluster', color_discrete_sequence = px.colors.sequential.Inferno, template='plotly',\n",
    "                        mapbox_style='open-street-map',width = 1050, height = 900, size='Point_size',\n",
    "                        title=f'Hot spots centroids for {string_day} at {hour} o clock',\n",
    "                        \n",
    "                        hover_data = {'Lat' : False , \"Lon\" : False , \"N_pick_ups\" : True , \"Point_size\" : False},\n",
    "                        )\n",
    "\n",
    "    #fig.show()\n",
    "    "
   ]
  },
  {
   "attachments": {},
   "cell_type": "markdown",
   "metadata": {},
   "source": [
    "<img src='Capture d’écran (1291).png' alt=\"Uber Cluster Map\" />"
   ]
  }
 ],
 "metadata": {
  "kernelspec": {
   "display_name": "Python 3.9.12 ('base')",
   "language": "python",
   "name": "python3"
  },
  "language_info": {
   "codemirror_mode": {
    "name": "ipython",
    "version": 3
   },
   "file_extension": ".py",
   "mimetype": "text/x-python",
   "name": "python",
   "nbconvert_exporter": "python",
   "pygments_lexer": "ipython3",
   "version": "3.10.5"
  },
  "vscode": {
   "interpreter": {
    "hash": "16196ea7eff63910081d4e10ae1bdb1eb18fd83cb470bb8efbb9fa6b0c724af5"
   }
  }
 },
 "nbformat": 4,
 "nbformat_minor": 2
}
