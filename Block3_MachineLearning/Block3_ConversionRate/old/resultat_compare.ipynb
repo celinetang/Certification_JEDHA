{
 "cells": [
  {
   "cell_type": "code",
   "execution_count": 1,
   "metadata": {},
   "outputs": [],
   "source": [
    "import pandas as pd\n",
    "import plotly.express as px"
   ]
  },
  {
   "cell_type": "code",
   "execution_count": 2,
   "metadata": {},
   "outputs": [
    {
     "data": {
      "text/html": [
       "<div>\n",
       "<style scoped>\n",
       "    .dataframe tbody tr th:only-of-type {\n",
       "        vertical-align: middle;\n",
       "    }\n",
       "\n",
       "    .dataframe tbody tr th {\n",
       "        vertical-align: top;\n",
       "    }\n",
       "\n",
       "    .dataframe thead th {\n",
       "        text-align: right;\n",
       "    }\n",
       "</style>\n",
       "<table border=\"1\" class=\"dataframe\">\n",
       "  <thead>\n",
       "    <tr style=\"text-align: right;\">\n",
       "      <th></th>\n",
       "      <th>Unnamed: 0</th>\n",
       "      <th>rank</th>\n",
       "      <th>Unnamed: 2</th>\n",
       "      <th>grid-search</th>\n",
       "      <th>cross val f1</th>\n",
       "      <th>std</th>\n",
       "      <th>f1 train</th>\n",
       "      <th>f1 test</th>\n",
       "      <th>différence</th>\n",
       "      <th>f1 entier</th>\n",
       "      <th>uploadéd</th>\n",
       "      <th>code</th>\n",
       "      <th>commentaire</th>\n",
       "    </tr>\n",
       "  </thead>\n",
       "  <tbody>\n",
       "    <tr>\n",
       "      <th>0</th>\n",
       "      <td>Model1</td>\n",
       "      <td>NaN</td>\n",
       "      <td>Logistic Regression</td>\n",
       "      <td>none</td>\n",
       "      <td>0.762552</td>\n",
       "      <td>0.0083</td>\n",
       "      <td>0.763</td>\n",
       "      <td>0.771</td>\n",
       "      <td>-0.008</td>\n",
       "      <td>0.763</td>\n",
       "      <td>NaN</td>\n",
       "      <td>_model1</td>\n",
       "      <td>NaN</td>\n",
       "    </tr>\n",
       "    <tr>\n",
       "      <th>1</th>\n",
       "      <td>Model2</td>\n",
       "      <td>NaN</td>\n",
       "      <td>Logistic Regression</td>\n",
       "      <td>yes C = 10</td>\n",
       "      <td>0.762552</td>\n",
       "      <td>0.0083</td>\n",
       "      <td>0.763</td>\n",
       "      <td>0.772</td>\n",
       "      <td>-0.009</td>\n",
       "      <td>0.764</td>\n",
       "      <td>NaN</td>\n",
       "      <td>_model1</td>\n",
       "      <td>NaN</td>\n",
       "    </tr>\n",
       "    <tr>\n",
       "      <th>2</th>\n",
       "      <td>Model3</td>\n",
       "      <td>NaN</td>\n",
       "      <td>Tree</td>\n",
       "      <td>max_depths = 11, min_samples_leaf=20, min_samp...</td>\n",
       "      <td>0.717000</td>\n",
       "      <td>0.0129</td>\n",
       "      <td>0.764</td>\n",
       "      <td>0.763</td>\n",
       "      <td>0.001</td>\n",
       "      <td>0.764</td>\n",
       "      <td>NaN</td>\n",
       "      <td>_model2</td>\n",
       "      <td>NaN</td>\n",
       "    </tr>\n",
       "    <tr>\n",
       "      <th>3</th>\n",
       "      <td>Model4</td>\n",
       "      <td>NaN</td>\n",
       "      <td>Tree</td>\n",
       "      <td>9, 15, 3</td>\n",
       "      <td>0.717000</td>\n",
       "      <td>0.0129</td>\n",
       "      <td>0.763</td>\n",
       "      <td>0.749</td>\n",
       "      <td>0.014</td>\n",
       "      <td>0.765</td>\n",
       "      <td>NaN</td>\n",
       "      <td>_model2</td>\n",
       "      <td>NaN</td>\n",
       "    </tr>\n",
       "    <tr>\n",
       "      <th>4</th>\n",
       "      <td>Model5</td>\n",
       "      <td>16.0</td>\n",
       "      <td>Tree</td>\n",
       "      <td>max_depths = 10, min_samples_leaf=5, min_sampl...</td>\n",
       "      <td>0.717000</td>\n",
       "      <td>0.0129</td>\n",
       "      <td>0.772</td>\n",
       "      <td>0.746</td>\n",
       "      <td>0.026</td>\n",
       "      <td>0.772</td>\n",
       "      <td>2023-04-26 00:00:00</td>\n",
       "      <td>_model2</td>\n",
       "      <td>overfitting</td>\n",
       "    </tr>\n",
       "  </tbody>\n",
       "</table>\n",
       "</div>"
      ],
      "text/plain": [
       "  Unnamed: 0  rank           Unnamed: 2  \\\n",
       "0     Model1   NaN  Logistic Regression   \n",
       "1     Model2   NaN  Logistic Regression   \n",
       "2     Model3   NaN                 Tree   \n",
       "3     Model4   NaN                 Tree   \n",
       "4     Model5  16.0                 Tree   \n",
       "\n",
       "                                         grid-search  cross val f1     std  \\\n",
       "0                                               none      0.762552  0.0083   \n",
       "1                                         yes C = 10      0.762552  0.0083   \n",
       "2  max_depths = 11, min_samples_leaf=20, min_samp...      0.717000  0.0129   \n",
       "3                                           9, 15, 3      0.717000  0.0129   \n",
       "4  max_depths = 10, min_samples_leaf=5, min_sampl...      0.717000  0.0129   \n",
       "\n",
       "  f1 train  f1 test  différence   f1 entier             uploadéd     code  \\\n",
       "0    0.763    0.771       -0.008      0.763                  NaN  _model1   \n",
       "1    0.763    0.772       -0.009      0.764                  NaN  _model1   \n",
       "2    0.764    0.763        0.001      0.764                  NaN  _model2   \n",
       "3    0.763    0.749        0.014      0.765                  NaN  _model2   \n",
       "4    0.772    0.746        0.026      0.772  2023-04-26 00:00:00  _model2   \n",
       "\n",
       "   commentaire  \n",
       "0          NaN  \n",
       "1          NaN  \n",
       "2          NaN  \n",
       "3          NaN  \n",
       "4  overfitting  "
      ]
     },
     "execution_count": 2,
     "metadata": {},
     "output_type": "execute_result"
    }
   ],
   "source": [
    "df = pd.read_excel(\"Modèles.xlsx\", sheet_name = 'Feuil2')\n",
    "df.head()"
   ]
  },
  {
   "cell_type": "code",
   "execution_count": 3,
   "metadata": {},
   "outputs": [
    {
     "data": {
      "text/plain": [
       "Index(['Unnamed: 0', 'rank', 'Unnamed: 2', 'grid-search', 'cross val f1',\n",
       "       'std', 'f1 train', 'f1 test', 'différence ', 'f1 entier', 'uploadéd',\n",
       "       'code', 'commentaire'],\n",
       "      dtype='object')"
      ]
     },
     "execution_count": 3,
     "metadata": {},
     "output_type": "execute_result"
    }
   ],
   "source": [
    "df.columns"
   ]
  },
  {
   "cell_type": "code",
   "execution_count": 15,
   "metadata": {},
   "outputs": [
    {
     "data": {
      "text/html": [
       "<div>\n",
       "<style scoped>\n",
       "    .dataframe tbody tr th:only-of-type {\n",
       "        vertical-align: middle;\n",
       "    }\n",
       "\n",
       "    .dataframe tbody tr th {\n",
       "        vertical-align: top;\n",
       "    }\n",
       "\n",
       "    .dataframe thead th {\n",
       "        text-align: right;\n",
       "    }\n",
       "</style>\n",
       "<table border=\"1\" class=\"dataframe\">\n",
       "  <thead>\n",
       "    <tr style=\"text-align: right;\">\n",
       "      <th></th>\n",
       "      <th>Unnamed: 0</th>\n",
       "      <th>set</th>\n",
       "      <th>score</th>\n",
       "    </tr>\n",
       "  </thead>\n",
       "  <tbody>\n",
       "    <tr>\n",
       "      <th>78</th>\n",
       "      <td>Model7</td>\n",
       "      <td>f1 entier</td>\n",
       "      <td>0.7729</td>\n",
       "    </tr>\n",
       "    <tr>\n",
       "      <th>76</th>\n",
       "      <td>Model5</td>\n",
       "      <td>f1 entier</td>\n",
       "      <td>0.772</td>\n",
       "    </tr>\n",
       "    <tr>\n",
       "      <th>75</th>\n",
       "      <td>Model4</td>\n",
       "      <td>f1 entier</td>\n",
       "      <td>0.765</td>\n",
       "    </tr>\n",
       "    <tr>\n",
       "      <th>73</th>\n",
       "      <td>Model2</td>\n",
       "      <td>f1 entier</td>\n",
       "      <td>0.764</td>\n",
       "    </tr>\n",
       "    <tr>\n",
       "      <th>74</th>\n",
       "      <td>Model3</td>\n",
       "      <td>f1 entier</td>\n",
       "      <td>0.764</td>\n",
       "    </tr>\n",
       "    <tr>\n",
       "      <th>89</th>\n",
       "      <td>Model18</td>\n",
       "      <td>f1 entier</td>\n",
       "      <td>0.763897</td>\n",
       "    </tr>\n",
       "    <tr>\n",
       "      <th>84</th>\n",
       "      <td>Model13</td>\n",
       "      <td>f1 entier</td>\n",
       "      <td>0.763897</td>\n",
       "    </tr>\n",
       "    <tr>\n",
       "      <th>87</th>\n",
       "      <td>Model16</td>\n",
       "      <td>f1 entier</td>\n",
       "      <td>0.763897</td>\n",
       "    </tr>\n",
       "    <tr>\n",
       "      <th>83</th>\n",
       "      <td>Model12</td>\n",
       "      <td>f1 entier</td>\n",
       "      <td>0.763897</td>\n",
       "    </tr>\n",
       "    <tr>\n",
       "      <th>85</th>\n",
       "      <td>Model14</td>\n",
       "      <td>f1 entier</td>\n",
       "      <td>0.763897</td>\n",
       "    </tr>\n",
       "    <tr>\n",
       "      <th>77</th>\n",
       "      <td>Model6</td>\n",
       "      <td>f1 entier</td>\n",
       "      <td>0.763897</td>\n",
       "    </tr>\n",
       "    <tr>\n",
       "      <th>81</th>\n",
       "      <td>Model10</td>\n",
       "      <td>f1 entier</td>\n",
       "      <td>0.763752</td>\n",
       "    </tr>\n",
       "    <tr>\n",
       "      <th>82</th>\n",
       "      <td>Model11</td>\n",
       "      <td>f1 entier</td>\n",
       "      <td>0.763691</td>\n",
       "    </tr>\n",
       "    <tr>\n",
       "      <th>72</th>\n",
       "      <td>Model1</td>\n",
       "      <td>f1 entier</td>\n",
       "      <td>0.763</td>\n",
       "    </tr>\n",
       "    <tr>\n",
       "      <th>79</th>\n",
       "      <td>Model8</td>\n",
       "      <td>f1 entier</td>\n",
       "      <td>0.75832</td>\n",
       "    </tr>\n",
       "    <tr>\n",
       "      <th>80</th>\n",
       "      <td>Model9</td>\n",
       "      <td>f1 entier</td>\n",
       "      <td>NaN</td>\n",
       "    </tr>\n",
       "    <tr>\n",
       "      <th>86</th>\n",
       "      <td>Model15</td>\n",
       "      <td>f1 entier</td>\n",
       "      <td>NaN</td>\n",
       "    </tr>\n",
       "    <tr>\n",
       "      <th>88</th>\n",
       "      <td>Model17</td>\n",
       "      <td>f1 entier</td>\n",
       "      <td>NaN</td>\n",
       "    </tr>\n",
       "    <tr>\n",
       "      <th>90</th>\n",
       "      <td>Model19</td>\n",
       "      <td>f1 entier</td>\n",
       "      <td>NaN</td>\n",
       "    </tr>\n",
       "    <tr>\n",
       "      <th>91</th>\n",
       "      <td>NaN</td>\n",
       "      <td>f1 entier</td>\n",
       "      <td>NaN</td>\n",
       "    </tr>\n",
       "  </tbody>\n",
       "</table>\n",
       "</div>"
      ],
      "text/plain": [
       "   Unnamed: 0        set     score\n",
       "78     Model7  f1 entier    0.7729\n",
       "76     Model5  f1 entier     0.772\n",
       "75     Model4  f1 entier     0.765\n",
       "73     Model2  f1 entier     0.764\n",
       "74     Model3  f1 entier     0.764\n",
       "89    Model18  f1 entier  0.763897\n",
       "84    Model13  f1 entier  0.763897\n",
       "87    Model16  f1 entier  0.763897\n",
       "83    Model12  f1 entier  0.763897\n",
       "85    Model14  f1 entier  0.763897\n",
       "77     Model6  f1 entier  0.763897\n",
       "81    Model10  f1 entier  0.763752\n",
       "82    Model11  f1 entier  0.763691\n",
       "72     Model1  f1 entier     0.763\n",
       "79     Model8  f1 entier   0.75832\n",
       "80     Model9  f1 entier       NaN\n",
       "86    Model15  f1 entier       NaN\n",
       "88    Model17  f1 entier       NaN\n",
       "90    Model19  f1 entier       NaN\n",
       "91        NaN  f1 entier       NaN"
      ]
     },
     "execution_count": 15,
     "metadata": {},
     "output_type": "execute_result"
    }
   ],
   "source": [
    "out = df.melt(id_vars=['Unnamed: 0'], value_vars=['f1 train', 'f1 test', 'f1 entier'],\n",
    "        var_name='set', value_name='score')\n",
    "out = out.sort_values(by=['set', 'score'], ascending = [True, False])\n",
    "out.head(20)"
   ]
  },
  {
   "cell_type": "code",
   "execution_count": 18,
   "metadata": {},
   "outputs": [
    {
     "data": {
      "application/vnd.plotly.v1+json": {
       "config": {
        "plotlyServerURL": "https://plot.ly"
       },
       "data": [
        {
         "alignmentgroup": "True",
         "hovertemplate": "set=f1 entier<br>Unnamed: 0=%{x}<br>score=%{y}<extra></extra>",
         "legendgroup": "f1 entier",
         "marker": {
          "color": "#636efa",
          "pattern": {
           "shape": ""
          }
         },
         "name": "f1 entier",
         "offsetgroup": "f1 entier",
         "orientation": "v",
         "showlegend": true,
         "textposition": "auto",
         "type": "bar",
         "x": [
          "Model7",
          "Model5",
          "Model4",
          "Model2",
          "Model3",
          "Model18",
          "Model13",
          "Model16",
          "Model12",
          "Model14",
          "Model6",
          "Model10",
          "Model11",
          "Model1",
          "Model8",
          "Model9",
          "Model15",
          "Model17",
          "Model19",
          null,
          null,
          null,
          null,
          null,
          null,
          null,
          null,
          null,
          null,
          null,
          null,
          null,
          null,
          null,
          null,
          null
         ],
         "xaxis": "x",
         "y": [
          0.7729,
          0.772,
          0.765,
          0.764,
          0.764,
          0.763897262751718,
          0.76389726275171,
          0.76389726275171,
          0.763897262751,
          0.763897262751,
          0.76389726275,
          0.76375248538892,
          0.763691194209891,
          0.763,
          0.75832,
          null,
          null,
          null,
          null,
          null,
          null,
          null,
          null,
          null,
          null,
          null,
          null,
          null,
          null,
          null,
          null,
          null,
          null,
          null,
          null,
          null
         ],
         "yaxis": "y"
        },
        {
         "alignmentgroup": "True",
         "hovertemplate": "set=f1 test<br>Unnamed: 0=%{x}<br>score=%{y}<extra></extra>",
         "legendgroup": "f1 test",
         "marker": {
          "color": "#EF553B",
          "pattern": {
           "shape": ""
          }
         },
         "name": "f1 test",
         "offsetgroup": "f1 test",
         "orientation": "v",
         "showlegend": true,
         "textposition": "auto",
         "type": "bar",
         "x": [
          "Model2",
          "Model11",
          "Model13",
          "Model14",
          "Model12",
          "Model18",
          "Model6",
          "Model1",
          "Model10",
          "Model16",
          "Model3",
          "Model8",
          "Model7",
          "Model4",
          "Model5",
          "Model9",
          "Model15",
          "Model17",
          "Model19",
          null,
          null,
          null,
          null,
          null,
          null,
          null,
          null,
          null,
          null,
          null,
          null,
          null,
          null,
          null,
          null,
          null
         ],
         "xaxis": "x",
         "y": [
          0.772,
          0.771908763505402,
          0.771908763505,
          0.771908763505,
          0.7719087635,
          0.771171171171171,
          0.77117117117,
          0.771,
          0.77033492822,
          0.7677496991576,
          0.763,
          0.76173,
          0.7498,
          0.749,
          0.746,
          null,
          null,
          null,
          null,
          null,
          null,
          null,
          null,
          null,
          null,
          null,
          null,
          null,
          null,
          null,
          null,
          null,
          null,
          null,
          null,
          null
         ],
         "yaxis": "y"
        },
        {
         "alignmentgroup": "True",
         "hovertemplate": "set=f1 train<br>Unnamed: 0=%{x}<br>score=%{y}<extra></extra>",
         "legendgroup": "f1 train",
         "marker": {
          "color": "#00cc96",
          "pattern": {
           "shape": ""
          }
         },
         "name": "f1 train",
         "offsetgroup": "f1 train",
         "orientation": "v",
         "showlegend": true,
         "textposition": "auto",
         "type": "bar",
         "x": [
          null,
          null,
          null,
          "Model5",
          "Model3",
          "Model10",
          "Model12",
          "Model1",
          "Model2",
          "Model4",
          "Model11",
          "Model13",
          "Model14",
          "Model6",
          "Model18",
          "Model7",
          "Model8",
          "Model16",
          "Model9",
          "Model15",
          "Model17",
          "Model19",
          null,
          null,
          null,
          null,
          null,
          null,
          null,
          null,
          null,
          null,
          null,
          null,
          null,
          null
         ],
         "xaxis": "x",
         "y": [
          "puis entre plusieurs Ytest égaux, on choisit le moins de overfitting",
          "choisir le plus haut Y test",
          "Technique de choix :",
          0.772,
          0.764,
          0.7630150753768,
          0.76300268,
          0.763,
          0.763,
          0.763,
          0.762919766740398,
          0.76291976674,
          0.76291976674,
          0.762741463,
          0.762741416309012,
          0.7627,
          0.7627,
          0.7621545289489,
          null,
          null,
          null,
          null,
          null,
          null,
          null,
          null,
          null,
          null,
          null,
          null,
          null,
          null,
          null,
          null,
          null,
          null
         ],
         "yaxis": "y"
        }
       ],
       "layout": {
        "barmode": "group",
        "legend": {
         "title": {
          "text": "set"
         },
         "tracegroupgap": 0
        },
        "margin": {
         "t": 60
        },
        "template": {
         "data": {
          "bar": [
           {
            "error_x": {
             "color": "#2a3f5f"
            },
            "error_y": {
             "color": "#2a3f5f"
            },
            "marker": {
             "line": {
              "color": "#E5ECF6",
              "width": 0.5
             },
             "pattern": {
              "fillmode": "overlay",
              "size": 10,
              "solidity": 0.2
             }
            },
            "type": "bar"
           }
          ],
          "barpolar": [
           {
            "marker": {
             "line": {
              "color": "#E5ECF6",
              "width": 0.5
             },
             "pattern": {
              "fillmode": "overlay",
              "size": 10,
              "solidity": 0.2
             }
            },
            "type": "barpolar"
           }
          ],
          "carpet": [
           {
            "aaxis": {
             "endlinecolor": "#2a3f5f",
             "gridcolor": "white",
             "linecolor": "white",
             "minorgridcolor": "white",
             "startlinecolor": "#2a3f5f"
            },
            "baxis": {
             "endlinecolor": "#2a3f5f",
             "gridcolor": "white",
             "linecolor": "white",
             "minorgridcolor": "white",
             "startlinecolor": "#2a3f5f"
            },
            "type": "carpet"
           }
          ],
          "choropleth": [
           {
            "colorbar": {
             "outlinewidth": 0,
             "ticks": ""
            },
            "type": "choropleth"
           }
          ],
          "contour": [
           {
            "colorbar": {
             "outlinewidth": 0,
             "ticks": ""
            },
            "colorscale": [
             [
              0,
              "#0d0887"
             ],
             [
              0.1111111111111111,
              "#46039f"
             ],
             [
              0.2222222222222222,
              "#7201a8"
             ],
             [
              0.3333333333333333,
              "#9c179e"
             ],
             [
              0.4444444444444444,
              "#bd3786"
             ],
             [
              0.5555555555555556,
              "#d8576b"
             ],
             [
              0.6666666666666666,
              "#ed7953"
             ],
             [
              0.7777777777777778,
              "#fb9f3a"
             ],
             [
              0.8888888888888888,
              "#fdca26"
             ],
             [
              1,
              "#f0f921"
             ]
            ],
            "type": "contour"
           }
          ],
          "contourcarpet": [
           {
            "colorbar": {
             "outlinewidth": 0,
             "ticks": ""
            },
            "type": "contourcarpet"
           }
          ],
          "heatmap": [
           {
            "colorbar": {
             "outlinewidth": 0,
             "ticks": ""
            },
            "colorscale": [
             [
              0,
              "#0d0887"
             ],
             [
              0.1111111111111111,
              "#46039f"
             ],
             [
              0.2222222222222222,
              "#7201a8"
             ],
             [
              0.3333333333333333,
              "#9c179e"
             ],
             [
              0.4444444444444444,
              "#bd3786"
             ],
             [
              0.5555555555555556,
              "#d8576b"
             ],
             [
              0.6666666666666666,
              "#ed7953"
             ],
             [
              0.7777777777777778,
              "#fb9f3a"
             ],
             [
              0.8888888888888888,
              "#fdca26"
             ],
             [
              1,
              "#f0f921"
             ]
            ],
            "type": "heatmap"
           }
          ],
          "heatmapgl": [
           {
            "colorbar": {
             "outlinewidth": 0,
             "ticks": ""
            },
            "colorscale": [
             [
              0,
              "#0d0887"
             ],
             [
              0.1111111111111111,
              "#46039f"
             ],
             [
              0.2222222222222222,
              "#7201a8"
             ],
             [
              0.3333333333333333,
              "#9c179e"
             ],
             [
              0.4444444444444444,
              "#bd3786"
             ],
             [
              0.5555555555555556,
              "#d8576b"
             ],
             [
              0.6666666666666666,
              "#ed7953"
             ],
             [
              0.7777777777777778,
              "#fb9f3a"
             ],
             [
              0.8888888888888888,
              "#fdca26"
             ],
             [
              1,
              "#f0f921"
             ]
            ],
            "type": "heatmapgl"
           }
          ],
          "histogram": [
           {
            "marker": {
             "pattern": {
              "fillmode": "overlay",
              "size": 10,
              "solidity": 0.2
             }
            },
            "type": "histogram"
           }
          ],
          "histogram2d": [
           {
            "colorbar": {
             "outlinewidth": 0,
             "ticks": ""
            },
            "colorscale": [
             [
              0,
              "#0d0887"
             ],
             [
              0.1111111111111111,
              "#46039f"
             ],
             [
              0.2222222222222222,
              "#7201a8"
             ],
             [
              0.3333333333333333,
              "#9c179e"
             ],
             [
              0.4444444444444444,
              "#bd3786"
             ],
             [
              0.5555555555555556,
              "#d8576b"
             ],
             [
              0.6666666666666666,
              "#ed7953"
             ],
             [
              0.7777777777777778,
              "#fb9f3a"
             ],
             [
              0.8888888888888888,
              "#fdca26"
             ],
             [
              1,
              "#f0f921"
             ]
            ],
            "type": "histogram2d"
           }
          ],
          "histogram2dcontour": [
           {
            "colorbar": {
             "outlinewidth": 0,
             "ticks": ""
            },
            "colorscale": [
             [
              0,
              "#0d0887"
             ],
             [
              0.1111111111111111,
              "#46039f"
             ],
             [
              0.2222222222222222,
              "#7201a8"
             ],
             [
              0.3333333333333333,
              "#9c179e"
             ],
             [
              0.4444444444444444,
              "#bd3786"
             ],
             [
              0.5555555555555556,
              "#d8576b"
             ],
             [
              0.6666666666666666,
              "#ed7953"
             ],
             [
              0.7777777777777778,
              "#fb9f3a"
             ],
             [
              0.8888888888888888,
              "#fdca26"
             ],
             [
              1,
              "#f0f921"
             ]
            ],
            "type": "histogram2dcontour"
           }
          ],
          "mesh3d": [
           {
            "colorbar": {
             "outlinewidth": 0,
             "ticks": ""
            },
            "type": "mesh3d"
           }
          ],
          "parcoords": [
           {
            "line": {
             "colorbar": {
              "outlinewidth": 0,
              "ticks": ""
             }
            },
            "type": "parcoords"
           }
          ],
          "pie": [
           {
            "automargin": true,
            "type": "pie"
           }
          ],
          "scatter": [
           {
            "fillpattern": {
             "fillmode": "overlay",
             "size": 10,
             "solidity": 0.2
            },
            "type": "scatter"
           }
          ],
          "scatter3d": [
           {
            "line": {
             "colorbar": {
              "outlinewidth": 0,
              "ticks": ""
             }
            },
            "marker": {
             "colorbar": {
              "outlinewidth": 0,
              "ticks": ""
             }
            },
            "type": "scatter3d"
           }
          ],
          "scattercarpet": [
           {
            "marker": {
             "colorbar": {
              "outlinewidth": 0,
              "ticks": ""
             }
            },
            "type": "scattercarpet"
           }
          ],
          "scattergeo": [
           {
            "marker": {
             "colorbar": {
              "outlinewidth": 0,
              "ticks": ""
             }
            },
            "type": "scattergeo"
           }
          ],
          "scattergl": [
           {
            "marker": {
             "colorbar": {
              "outlinewidth": 0,
              "ticks": ""
             }
            },
            "type": "scattergl"
           }
          ],
          "scattermapbox": [
           {
            "marker": {
             "colorbar": {
              "outlinewidth": 0,
              "ticks": ""
             }
            },
            "type": "scattermapbox"
           }
          ],
          "scatterpolar": [
           {
            "marker": {
             "colorbar": {
              "outlinewidth": 0,
              "ticks": ""
             }
            },
            "type": "scatterpolar"
           }
          ],
          "scatterpolargl": [
           {
            "marker": {
             "colorbar": {
              "outlinewidth": 0,
              "ticks": ""
             }
            },
            "type": "scatterpolargl"
           }
          ],
          "scatterternary": [
           {
            "marker": {
             "colorbar": {
              "outlinewidth": 0,
              "ticks": ""
             }
            },
            "type": "scatterternary"
           }
          ],
          "surface": [
           {
            "colorbar": {
             "outlinewidth": 0,
             "ticks": ""
            },
            "colorscale": [
             [
              0,
              "#0d0887"
             ],
             [
              0.1111111111111111,
              "#46039f"
             ],
             [
              0.2222222222222222,
              "#7201a8"
             ],
             [
              0.3333333333333333,
              "#9c179e"
             ],
             [
              0.4444444444444444,
              "#bd3786"
             ],
             [
              0.5555555555555556,
              "#d8576b"
             ],
             [
              0.6666666666666666,
              "#ed7953"
             ],
             [
              0.7777777777777778,
              "#fb9f3a"
             ],
             [
              0.8888888888888888,
              "#fdca26"
             ],
             [
              1,
              "#f0f921"
             ]
            ],
            "type": "surface"
           }
          ],
          "table": [
           {
            "cells": {
             "fill": {
              "color": "#EBF0F8"
             },
             "line": {
              "color": "white"
             }
            },
            "header": {
             "fill": {
              "color": "#C8D4E3"
             },
             "line": {
              "color": "white"
             }
            },
            "type": "table"
           }
          ]
         },
         "layout": {
          "annotationdefaults": {
           "arrowcolor": "#2a3f5f",
           "arrowhead": 0,
           "arrowwidth": 1
          },
          "autotypenumbers": "strict",
          "coloraxis": {
           "colorbar": {
            "outlinewidth": 0,
            "ticks": ""
           }
          },
          "colorscale": {
           "diverging": [
            [
             0,
             "#8e0152"
            ],
            [
             0.1,
             "#c51b7d"
            ],
            [
             0.2,
             "#de77ae"
            ],
            [
             0.3,
             "#f1b6da"
            ],
            [
             0.4,
             "#fde0ef"
            ],
            [
             0.5,
             "#f7f7f7"
            ],
            [
             0.6,
             "#e6f5d0"
            ],
            [
             0.7,
             "#b8e186"
            ],
            [
             0.8,
             "#7fbc41"
            ],
            [
             0.9,
             "#4d9221"
            ],
            [
             1,
             "#276419"
            ]
           ],
           "sequential": [
            [
             0,
             "#0d0887"
            ],
            [
             0.1111111111111111,
             "#46039f"
            ],
            [
             0.2222222222222222,
             "#7201a8"
            ],
            [
             0.3333333333333333,
             "#9c179e"
            ],
            [
             0.4444444444444444,
             "#bd3786"
            ],
            [
             0.5555555555555556,
             "#d8576b"
            ],
            [
             0.6666666666666666,
             "#ed7953"
            ],
            [
             0.7777777777777778,
             "#fb9f3a"
            ],
            [
             0.8888888888888888,
             "#fdca26"
            ],
            [
             1,
             "#f0f921"
            ]
           ],
           "sequentialminus": [
            [
             0,
             "#0d0887"
            ],
            [
             0.1111111111111111,
             "#46039f"
            ],
            [
             0.2222222222222222,
             "#7201a8"
            ],
            [
             0.3333333333333333,
             "#9c179e"
            ],
            [
             0.4444444444444444,
             "#bd3786"
            ],
            [
             0.5555555555555556,
             "#d8576b"
            ],
            [
             0.6666666666666666,
             "#ed7953"
            ],
            [
             0.7777777777777778,
             "#fb9f3a"
            ],
            [
             0.8888888888888888,
             "#fdca26"
            ],
            [
             1,
             "#f0f921"
            ]
           ]
          },
          "colorway": [
           "#636efa",
           "#EF553B",
           "#00cc96",
           "#ab63fa",
           "#FFA15A",
           "#19d3f3",
           "#FF6692",
           "#B6E880",
           "#FF97FF",
           "#FECB52"
          ],
          "font": {
           "color": "#2a3f5f"
          },
          "geo": {
           "bgcolor": "white",
           "lakecolor": "white",
           "landcolor": "#E5ECF6",
           "showlakes": true,
           "showland": true,
           "subunitcolor": "white"
          },
          "hoverlabel": {
           "align": "left"
          },
          "hovermode": "closest",
          "mapbox": {
           "style": "light"
          },
          "paper_bgcolor": "white",
          "plot_bgcolor": "#E5ECF6",
          "polar": {
           "angularaxis": {
            "gridcolor": "white",
            "linecolor": "white",
            "ticks": ""
           },
           "bgcolor": "#E5ECF6",
           "radialaxis": {
            "gridcolor": "white",
            "linecolor": "white",
            "ticks": ""
           }
          },
          "scene": {
           "xaxis": {
            "backgroundcolor": "#E5ECF6",
            "gridcolor": "white",
            "gridwidth": 2,
            "linecolor": "white",
            "showbackground": true,
            "ticks": "",
            "zerolinecolor": "white"
           },
           "yaxis": {
            "backgroundcolor": "#E5ECF6",
            "gridcolor": "white",
            "gridwidth": 2,
            "linecolor": "white",
            "showbackground": true,
            "ticks": "",
            "zerolinecolor": "white"
           },
           "zaxis": {
            "backgroundcolor": "#E5ECF6",
            "gridcolor": "white",
            "gridwidth": 2,
            "linecolor": "white",
            "showbackground": true,
            "ticks": "",
            "zerolinecolor": "white"
           }
          },
          "shapedefaults": {
           "line": {
            "color": "#2a3f5f"
           }
          },
          "ternary": {
           "aaxis": {
            "gridcolor": "white",
            "linecolor": "white",
            "ticks": ""
           },
           "baxis": {
            "gridcolor": "white",
            "linecolor": "white",
            "ticks": ""
           },
           "bgcolor": "#E5ECF6",
           "caxis": {
            "gridcolor": "white",
            "linecolor": "white",
            "ticks": ""
           }
          },
          "title": {
           "x": 0.05
          },
          "xaxis": {
           "automargin": true,
           "gridcolor": "white",
           "linecolor": "white",
           "ticks": "",
           "title": {
            "standoff": 15
           },
           "zerolinecolor": "white",
           "zerolinewidth": 2
          },
          "yaxis": {
           "automargin": true,
           "gridcolor": "white",
           "linecolor": "white",
           "ticks": "",
           "title": {
            "standoff": 15
           },
           "zerolinecolor": "white",
           "zerolinewidth": 2
          }
         }
        },
        "xaxis": {
         "anchor": "y",
         "domain": [
          0,
          1
         ],
         "title": {
          "text": "Unnamed: 0"
         }
        },
        "yaxis": {
         "anchor": "x",
         "domain": [
          0,
          1
         ],
         "title": {
          "text": "score"
         }
        }
       }
      }
     },
     "metadata": {},
     "output_type": "display_data"
    }
   ],
   "source": [
    "px.bar(out, x = 'Unnamed: 0', y= 'score', color = 'set', barmode=\"group\")"
   ]
  },
  {
   "cell_type": "code",
   "execution_count": 11,
   "metadata": {},
   "outputs": [],
   "source": [
    "models = [10, 12, 17, 18, 20]\n",
    "df = pd.DataFrame()"
   ]
  },
  {
   "cell_type": "code",
   "execution_count": 12,
   "metadata": {},
   "outputs": [],
   "source": [
    "df[0] = pd.read_csv(\"conversion_data_test_predictions_CTang-model10.csv\")\n",
    "df[1] = pd.read_csv(\"conversion_data_test_predictions_CTang-model12.csv\")\n",
    "df[2] = pd.read_csv(\"conversion_data_test_predictions_CTang-model17.csv\")\n",
    "df[3] = pd.read_csv(\"conversion_data_test_predictions_CTang-model18.csv\")\n",
    "df[4] = pd.read_csv(\"conversion_data_test_predictions_CTang-model20.csv\")"
   ]
  },
  {
   "cell_type": "code",
   "execution_count": 15,
   "metadata": {},
   "outputs": [],
   "source": [
    "df0 = pd.read_csv(\"conversion_data_test_predictions_CTang-model10.csv\")\n",
    "df1 = pd.read_csv(\"conversion_data_test_predictions_CTang-model12.csv\")\n",
    "df2 = pd.read_csv(\"conversion_data_test_predictions_CTang-model17.csv\")\n",
    "df3 = pd.read_csv(\"conversion_data_test_predictions_CTang-model18.csv\")\n",
    "df4 = pd.read_csv(\"conversion_data_test_predictions_CTang-model20.csv\")"
   ]
  },
  {
   "cell_type": "code",
   "execution_count": 13,
   "metadata": {},
   "outputs": [],
   "source": [
    "df.columns = models"
   ]
  },
  {
   "cell_type": "code",
   "execution_count": 7,
   "metadata": {},
   "outputs": [],
   "source": [
    "import pandas as pd\n",
    "import glob\n",
    "files = glob.glob(\"conversion_data_test_predictions_CTang-model*.csv\")\n",
    "df = []\n",
    "names = []\n",
    "for f in files:\n",
    "    csv = pd.read_csv(f)\n",
    "    df.append(csv)\n",
    "    names.append(f[39:46])\n",
    "df = pd.concat(df, axis = 1)\n",
    "df.columns = names\n"
   ]
  },
  {
   "cell_type": "code",
   "execution_count": 5,
   "metadata": {},
   "outputs": [
    {
     "data": {
      "text/plain": [
       "Index(['model10', 'model11', 'model12', 'model13', 'model14', 'model15',\n",
       "       'model16', 'model17', 'model18', 'model2.', 'model20', 'model25',\n",
       "       'model26', 'model27', 'model28', 'model3.', 'model30', 'model5.',\n",
       "       'model6.', 'model7.', 'model8.'],\n",
       "      dtype='object')"
      ]
     },
     "execution_count": 5,
     "metadata": {},
     "output_type": "execute_result"
    }
   ],
   "source": [
    "df.columns"
   ]
  },
  {
   "cell_type": "code",
   "execution_count": 8,
   "metadata": {},
   "outputs": [
    {
     "name": "stdout",
     "output_type": "stream",
     "text": [
      "model12 is equal to model13\n",
      "model12 is equal to model14\n",
      "model12 is equal to model16\n",
      "model12 is equal to model18\n",
      "model12 is equal to model2.\n",
      "model12 is equal to model25\n",
      "model12 is equal to model27\n",
      "model12 is equal to model6.\n",
      "model13 is equal to model14\n",
      "model13 is equal to model16\n",
      "model13 is equal to model18\n",
      "model13 is equal to model2.\n",
      "model13 is equal to model25\n",
      "model13 is equal to model27\n",
      "model13 is equal to model6.\n",
      "model14 is equal to model16\n",
      "model14 is equal to model18\n",
      "model14 is equal to model2.\n",
      "model14 is equal to model25\n",
      "model14 is equal to model27\n",
      "model14 is equal to model6.\n",
      "model16 is equal to model18\n",
      "model16 is equal to model2.\n",
      "model16 is equal to model25\n",
      "model16 is equal to model27\n",
      "model16 is equal to model6.\n",
      "model17 is equal to model20\n",
      "model18 is equal to model2.\n",
      "model18 is equal to model25\n",
      "model18 is equal to model27\n",
      "model18 is equal to model6.\n",
      "model2. is equal to model25\n",
      "model2. is equal to model27\n",
      "model2. is equal to model6.\n",
      "model25 is equal to model27\n",
      "model25 is equal to model6.\n",
      "model27 is equal to model6.\n"
     ]
    }
   ],
   "source": [
    "for i in range(df.shape[1]) :\n",
    "    for j in range(1,df.shape[1]-i) :\n",
    "        if df.iloc[:, i].equals(df.iloc[:, i+j]) == True :\n",
    "            print(f\"{df.columns[i]} is equal to {df.columns[i+j]}\")\n"
   ]
  },
  {
   "cell_type": "code",
   "execution_count": null,
   "metadata": {},
   "outputs": [],
   "source": []
  }
 ],
 "metadata": {
  "kernelspec": {
   "display_name": "base",
   "language": "python",
   "name": "python3"
  },
  "language_info": {
   "codemirror_mode": {
    "name": "ipython",
    "version": 3
   },
   "file_extension": ".py",
   "mimetype": "text/x-python",
   "name": "python",
   "nbconvert_exporter": "python",
   "pygments_lexer": "ipython3",
   "version": "3.9.13"
  },
  "orig_nbformat": 4
 },
 "nbformat": 4,
 "nbformat_minor": 2
}
